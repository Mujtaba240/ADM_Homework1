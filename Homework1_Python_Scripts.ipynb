{
 "cells": [
  {
   "cell_type": "markdown",
   "metadata": {},
   "source": [
    "### --------------------------------------------------------------------------------------\n",
    "# Name:         Ghulam Mujtaba         \n",
    "## Email        abbasimujtaba054@gmail.com                                                    \n",
    "# Assignment:   Homework1                                                                \n",
    "# Course:       Algorithmic Methods for Data Mining and Labatory I\n",
    "### --------------------------------------------------------------------------------------\n",
    " "
   ]
  },
  {
   "cell_type": "markdown",
   "metadata": {},
   "source": [
    "## Problem 1:"
   ]
  },
  {
   "cell_type": "markdown",
   "metadata": {},
   "source": [
    "### Introduction (all – total: 7 - max points: 75)\n",
    "\n",
    "### https://www.hackerrank.com/domains/python/py-introduction"
   ]
  },
  {
   "cell_type": "markdown",
   "metadata": {},
   "source": [
    "1.  Say \"Hello, World!\" With Python"
   ]
  },
  {
   "cell_type": "code",
   "execution_count": null,
   "metadata": {},
   "outputs": [],
   "source": [
    "# printing the text using print function of python \n",
    "print(\"Hello, World!\")"
   ]
  },
  {
   "cell_type": "markdown",
   "metadata": {},
   "source": [
    "2.  Python IF-Else"
   ]
  },
  {
   "cell_type": "code",
   "execution_count": null,
   "metadata": {},
   "outputs": [],
   "source": [
    "# taking user input \n",
    "number = int(input())\n",
    "if number % 2!=0:   # if n is not even number then print 'Weird'\n",
    "    print('Weird')\n",
    "elif (number>=2 and number<=5):   # if n is even and in between the range of 2-5 inclusive then print message as 'Not Weird'\n",
    "    print('Not Weird')\n",
    "elif (number>=6 and number<=20):  # if n is even and in between the range of 6-20 inclusive then print message as 'Weird'\n",
    "    print('Weird')\n",
    "else:                  # else print 'Not Weird'\n",
    "    print('Not Weird')"
   ]
  },
  {
   "cell_type": "markdown",
   "metadata": {},
   "source": [
    "3. Arithmetic Operators"
   ]
  },
  {
   "cell_type": "code",
   "execution_count": null,
   "metadata": {},
   "outputs": [],
   "source": [
    "# taking two integer numbers as input by user\n",
    "num1 = int(input())\n",
    "num2 = int(input())\n",
    "    \n",
    "print((num1+num2))   # adding those two number\n",
    "print((num1-num2))   # subtracting num2 from num1\n",
    "print((num1*num2))   # multiplying num1 and num2"
   ]
  },
  {
   "cell_type": "markdown",
   "metadata": {},
   "source": [
    "4. Python: Division"
   ]
  },
  {
   "cell_type": "code",
   "execution_count": null,
   "metadata": {},
   "outputs": [],
   "source": [
    "# getting two numbers input by user\n",
    "num1 = int(input())\n",
    "num2 = int(input())\n",
    "    \n",
    "print((num1//num2)) # this will discard the remainder returned by division and will return only it's integer number\n",
    "print((num1/num2))  # this will do normal division as divide num1 by num2 and print the results "
   ]
  },
  {
   "cell_type": "markdown",
   "metadata": {},
   "source": [
    "5. Loops"
   ]
  },
  {
   "cell_type": "code",
   "execution_count": null,
   "metadata": {},
   "outputs": [],
   "source": [
    "# getting size by user to run loop that much times.\n",
    "n = int(input())\n",
    "\n",
    "# running for loop upto the n\n",
    "for i in range(n):\n",
    "    print(i**2) # i**2 operation is actually power of 2 ower the each i value and printing on screen."
   ]
  },
  {
   "cell_type": "markdown",
   "metadata": {},
   "source": [
    "6. Write a function"
   ]
  },
  {
   "cell_type": "code",
   "execution_count": null,
   "metadata": {},
   "outputs": [],
   "source": [
    "# function to check wether a year is leap year or not\n",
    "def is_leap(year):\n",
    "    leap = False # initially set to False\n",
    "    \n",
    "    if year % 4 ==0 and year % 100!=0: # if year perfectly divisible by 4 and not by 100 then set leap value as True \n",
    "        leap = True\n",
    "    elif year % 400==0:  # else-if year is perfectly divisible by 400 is also a leap year so set leap value as True\n",
    "        leap = True\n",
    "    else:              # else in all other conditions that year will not be a leap year.\n",
    "        leap = False\n",
    "    return leap    # return the final leap variable value from the function's body at the last.\n",
    "\n",
    "# taking input by user\n",
    "year = int(input())\n",
    "print(is_leap(year)) # passing to is_leap function which will tell wether the year is leap or not."
   ]
  },
  {
   "cell_type": "markdown",
   "metadata": {},
   "source": [
    "7. Print Function"
   ]
  },
  {
   "cell_type": "code",
   "execution_count": null,
   "metadata": {},
   "outputs": [],
   "source": [
    "# getting input by user \n",
    "n = int(input())\n",
    "# runining the loop from 1 to n, that's why it is written as (1, (n+1)) \n",
    "for num in range(1, (n+1)):\n",
    "    print(num, end=\"\") # here end=\"\" will actually appends empty string with each iteration of the loop and avoids built-in newLine"
   ]
  },
  {
   "cell_type": "markdown",
   "metadata": {},
   "source": [
    "### Data types (all – total: 6 - max points: 60)\n",
    "### https://www.hackerrank.com/domains/python/py-basic-data-types"
   ]
  },
  {
   "cell_type": "markdown",
   "metadata": {},
   "source": [
    "1. Tuples"
   ]
  },
  {
   "cell_type": "code",
   "execution_count": null,
   "metadata": {},
   "outputs": [],
   "source": [
    "''' \n",
    "My code logic is fine but I don't know why I was not able to pass the test cases on hackerrank. may be because of system's internal\n",
    "requirements like OS etc. All in all you can check my logic sir it is as per requirements complete.\n",
    "'''\n",
    "\n",
    "# taking input by user, the size of tuple\n",
    "n = int(input())\n",
    "\n",
    "inputValues = input().split() # storing space-separated values into inputValues variables\n",
    "# this comprehension list will convert string values into integer and list will be stored in inputValues as updated\n",
    "inputValues = [int(item) for item in inputValues]\n",
    "\n",
    "t = tuple(inputValues) # here converting the list into tuple as required to do so.\n",
    "hashCode = hash(t) # calculating the hash of given tuple by user\n",
    "print(hashCode) # printing the hashCode"
   ]
  },
  {
   "cell_type": "markdown",
   "metadata": {},
   "source": [
    "2. List Comprehensions"
   ]
  },
  {
   "cell_type": "code",
   "execution_count": null,
   "metadata": {},
   "outputs": [],
   "source": [
    "# taking input of x,y,z coordinates and n \n",
    "x = int(input())\n",
    "y = int(input())\n",
    "z = int(input())\n",
    "n = int(input())\n",
    "\n",
    "# using list comprehension along with if-statement storing only those coordinates whose sum is not eqaul to n\n",
    "\n",
    "listOfCoordinates = [[i,j,k]  for i in range(x+1) for j in range(y+1) for k in range(z+1) if (i+j+k)!=n]\n",
    "print(listOfCoordinates) # printing the listOfCoordinates "
   ]
  },
  {
   "cell_type": "markdown",
   "metadata": {},
   "source": [
    "3. Find the Runner-Up Score!"
   ]
  },
  {
   "cell_type": "code",
   "execution_count": 4,
   "metadata": {},
   "outputs": [
    {
     "name": "stdout",
     "output_type": "stream",
     "text": [
      "2\n"
     ]
    }
   ],
   "source": [
    "# taking input by user \n",
    "n = int(input())\n",
    "\n",
    "# storing the values as integer in a list named arr using list comprehension syntax    \n",
    "arr = [int(x) for x in input().split()] \n",
    "    \n",
    "runner_up = -float('inf') # I used these two to show countless smallest number\n",
    "winner =  -float('inf') # got helped for this method on google\n",
    "\n",
    "'''\n",
    "In loop below iterating the arr so in if boddy, it checks if current iteration element in arr is greater than winner value\n",
    "then update the runner_up value first by assigning value of winner to it then update winner value to current iteration element arr.\n",
    "else if arr current value is greater than runner_up and arr iteration current element is less than the winner value then simply\n",
    "set runner_up value is current element of arr. Lastly, after this whole executed by for-loop then simply print out the\n",
    "runner_up as required to print the second position holder.\n",
    "\n",
    "'''\n",
    "for i in range(len(arr)):\n",
    "    if arr[i]>winner:\n",
    "        runner_up = winner\n",
    "        winner = arr[i]\n",
    "    elif  arr[i]>runner_up and arr[i]<winner:\n",
    "        runner_up = arr[i] \n",
    "    \n",
    "print(runner_up) \n"
   ]
  },
  {
   "cell_type": "markdown",
   "metadata": {},
   "source": [
    "4. Nested Lists"
   ]
  },
  {
   "cell_type": "code",
   "execution_count": 9,
   "metadata": {},
   "outputs": [
    {
     "name": "stdout",
     "output_type": "stream",
     "text": [
      "alpha\n",
      "beta\n"
     ]
    }
   ],
   "source": [
    "# taking the input by user, how many students information will be entered\n",
    "totalStdudents = int(input())\n",
    "\n",
    "''' \n",
    "This below piece of code takes input by user one-by-ony their name and marks and stores in the list named studentsList\n",
    "''' \n",
    "studentsList = []\n",
    "for i in range(totalStdudents): # This loop is for input\n",
    "    name = input()\n",
    "    score = float(input())\n",
    "    studentRecord = [name, score]\n",
    "    studentsList.append(studentRecord)\n",
    "\n",
    "'''  \n",
    " These two variables will help us for finding the second lowest grades in the studentsList.\n",
    " That's why initially their value is set as inf means uncountable lesser value.\n",
    "'''\n",
    "secondLowest = float('inf')\n",
    "lowest = float('inf')\n",
    "\n",
    "\n",
    "''' \n",
    "In loop below iterating the studentsList so in if boddy, it checks if current student grades in studentsList are less than the lowest\n",
    "variable value then update the secondLowest value by assigning value of lowest to it then update lowest variable value by the current \n",
    "student's grades. else-if current students grades in studentsList are less than secondLowest and are greater than lowest variable value \n",
    "then update the value of secondLowest variable by assigning the value of current students grades to it.\n",
    "Lastly, after this whole execution within for-loop body will simply helps to put the lowest grades in lowest variable and second lowest\n",
    "grades into the variable named secondLowest.  \n",
    "'''\n",
    "for i in range(totalStdudents):       # This loop is to find second lowest score first\n",
    "    if studentsList[i][1] < lowest:\n",
    "        secondLowest = lowest\n",
    "        lowest = studentsList[i][1]\n",
    "    elif studentsList[i][1]<secondLowest and studentsList[i][1]> lowest:\n",
    "        secondLowest = studentsList[i][1]\n",
    "    \n",
    "\n",
    "\n",
    "\n",
    "''' \n",
    "This loop is to find all those students whose score is equal to secondLowest and will store them into a \n",
    "new list named NamesOfStudentsWithSecondLowestGrades \n",
    "''' \n",
    "NamesOfStudentsWithSecondLowestGrades = []\n",
    "for student in studentsList: \n",
    "    if student[1]==secondLowest:\n",
    "        NamesOfStudentsWithSecondLowestGrades.append(student[0])\n",
    "\n",
    "''' \n",
    "If multiple students having same grades, which is second lowest, then simply this loop helps to sort them in \n",
    "alphabetical order. # This loop is for giving order to names alphabetically. \n",
    "''' \n",
    "for index in range(len(NamesOfStudentsWithSecondLowestGrades)-1): \n",
    "    if NamesOfStudentsWithSecondLowestGrades[index+1][0] < NamesOfStudentsWithSecondLowestGrades[index][0]:\n",
    "        temp = NamesOfStudentsWithSecondLowestGrades[index]\n",
    "        NamesOfStudentsWithSecondLowestGrades[index] = NamesOfStudentsWithSecondLowestGrades[index+1]\n",
    "        NamesOfStudentsWithSecondLowestGrades[index+1] = temp\n",
    "    \n",
    "# This loop is to simply print names on screen.\n",
    "for name in NamesOfStudentsWithSecondLowestGrades:\n",
    "    print(name)  \n",
    "            \n",
    "        \n",
    "    \n",
    "    \n"
   ]
  },
  {
   "cell_type": "markdown",
   "metadata": {},
   "source": [
    "5. Finding the percentage"
   ]
  },
  {
   "cell_type": "code",
   "execution_count": 15,
   "metadata": {},
   "outputs": [],
   "source": [
    "# taking the input by user for number of students' marks want to insert\n",
    "\n",
    "n = int(input())\n",
    "lengthOfMarkArray = 3\n",
    "\n",
    "''' \n",
    "Below code creates an empty dictionary to hold students names as a key and their marks as a value in list format.\n",
    "Loop takes input for each students one-by-one as in the format 'name mark1 mark2 mark3. then stores name in the name variable\n",
    "and marks in the scores variable by using comprehension list and converting string values into float.\n",
    "finally stores the data as a key-value pair. \n",
    "'''\n",
    "student_marks = {}\n",
    "for i in range(n):\n",
    "    record = input().split()\n",
    "    name = record[0]\n",
    "    scores = [float(mark) for mark in record[1:4]] \n",
    "    student_marks[name] = scores\n",
    "\n",
    "\n",
    "''' \n",
    "This below code takes an key input by user (student name) and then according to the name passed by user, loop will \n",
    "find it and will return the average marks of student in all three subjects (mark1, mark2, mark3).\n",
    "''' \n",
    "query_name = input()\n",
    "    \n",
    "totalMarks = 0\n",
    "for marks in student_marks[query_name]:\n",
    "    totalMarks+=marks\n",
    "print(\"{:.2f}\".format(totalMarks/lengthOfMarkArray))\n"
   ]
  },
  {
   "cell_type": "markdown",
   "metadata": {},
   "source": [
    "6. List"
   ]
  },
  {
   "cell_type": "code",
   "execution_count": 7,
   "metadata": {},
   "outputs": [
    {
     "data": {
      "text/plain": [
       "1"
      ]
     },
     "execution_count": 7,
     "metadata": {},
     "output_type": "execute_result"
    }
   ],
   "source": [
    "# taking input by user\n",
    "n = int(input())\n",
    "ElementList = [] # creating empty list which will hold the elements\n",
    "\n",
    "''' \n",
    "Loop runs n times and takes input by user. based on the operation choose by user the multiple if-esle block gets executed.\n",
    "and code performs required operations like inserting element at ith position and so on.\n",
    "'''\n",
    "for i in range(n):\n",
    "\n",
    "    UserDemand = input()\n",
    "    operation = UserDemand.split()\n",
    "\n",
    "    if operation[0]==\"insert\":\n",
    "        ElementList.insert(int(operation[1]),int(operation[2]))\n",
    "    elif operation[0]==\"print\":\n",
    "        print(ElementList)\n",
    "    elif operation[0]==\"remove\":\n",
    "        ElementList.remove(int(operation[1]))\n",
    "    elif operation[0]==\"append\":\n",
    "        ElementList.append(int(operation[1]))\n",
    "    elif operation[0]==\"sort\":\n",
    "        ElementList.sort()\n",
    "    elif operation[0]==\"pop\":\n",
    "        ElementList.pop()\n",
    "    else:\n",
    "        ElementList.reverse()\n",
    "\n",
    "        "
   ]
  },
  {
   "cell_type": "markdown",
   "metadata": {},
   "source": [
    "### Strings (all – total: 14 - max points: 220)\n",
    "### https://www.hackerrank.com/domains/python/py-strings"
   ]
  },
  {
   "cell_type": "markdown",
   "metadata": {},
   "source": [
    "1. sWAP cASE"
   ]
  },
  {
   "cell_type": "code",
   "execution_count": 4,
   "metadata": {},
   "outputs": [
    {
     "name": "stdout",
     "output_type": "stream",
     "text": [
      "hACKERrANK.COM PRESENTS \"pYTHONIST 2\".\n"
     ]
    }
   ],
   "source": [
    "''' \n",
    "The function below named swap_case takes a string and inside it a variable is declared named changedStr and it's value is set\n",
    "to empty string. Within for loop each character within 's' is checked if it is alphabetic then inside if body checking whether\n",
    "it is lowercased or uppercased and then changing it accordingly. else ch is not alphabetic then simply append the ch as it is\n",
    "into to the created variable named changedStr. \n",
    "'''\n",
    "\n",
    "def swap_case(s):\n",
    "    changedStr = \"\"\n",
    "    for ch in s:\n",
    "        if ch.isalpha():\n",
    "            if ch.islower():\n",
    "                changedStr+= ch.upper()\n",
    "            else:\n",
    "                changedStr+=ch.lower()\n",
    "        else:\n",
    "            changedStr+=ch\n",
    "    return changedStr\n",
    "\n",
    "''' here the input is taken by user and passed to swap_case method and returned result is printing on the screen.''' \n",
    "if __name__ == '__main__':\n",
    "    s = input()\n",
    "    result = swap_case(s)\n",
    "    print(result)"
   ]
  },
  {
   "cell_type": "markdown",
   "metadata": {},
   "source": [
    "2. String Split and Join"
   ]
  },
  {
   "cell_type": "code",
   "execution_count": 6,
   "metadata": {},
   "outputs": [
    {
     "name": "stdout",
     "output_type": "stream",
     "text": [
      "this-is-a-string\n"
     ]
    }
   ],
   "source": [
    "''' \n",
    "function named split_and_join takes a string as an parameter and within this function that string is breaked by space and result\n",
    "stored in words variable. THen again that words list is joined with the dashed character and result stored into dashedLine variable.\n",
    "finally that variable is returned at the end of function body.\n",
    "'''\n",
    "def split_and_join(line):\n",
    "    # write your code here\n",
    "    words = line.split(\" \")\n",
    "    dashedLine = \"-\".join(words)\n",
    "    return dashedLine\n",
    "\n",
    "''' input taken as a string by user and passed to function, split_and_join, and returned value stored in result and printed onscreen\n",
    "'''\n",
    "if __name__ == '__main__':\n",
    "    line = input()\n",
    "    result = split_and_join(line)\n",
    "    print(result)"
   ]
  },
  {
   "cell_type": "markdown",
   "metadata": {},
   "source": [
    "3. What's Your Name?"
   ]
  },
  {
   "cell_type": "code",
   "execution_count": null,
   "metadata": {},
   "outputs": [],
   "source": [
    "''' The function print_full_name takes two string parameters and within function body a greetings like message is printed '''\n",
    "\n",
    "def print_full_name(first, last):\n",
    "    # Write your code here\n",
    "    greetings = \"Hello \"+first_name+\" \"+last_name+\"! You just delved into python.\"\n",
    "    print(greetings)\n",
    "\n",
    "'''Here input taken by user as first_name, last_name and passed to function where the message is actually printed on screen.''' \n",
    "if __name__ == '__main__':\n",
    "    first_name = input()\n",
    "    last_name = input()\n",
    "    print_full_name(first_name, last_name)"
   ]
  },
  {
   "cell_type": "markdown",
   "metadata": {},
   "source": [
    "4. Mutations"
   ]
  },
  {
   "cell_type": "code",
   "execution_count": null,
   "metadata": {},
   "outputs": [],
   "source": [
    "''' The function named mutate_string takes three parameters as string, position, character. \n",
    "    firstly, the coming string is converted into a list and stored into a variable named changedString. \n",
    "    Then character in list at position, given in function parameter, is changed with new character given in parameter.\n",
    "    Then again the list is joined to have simple string value stored in variable named changedString. \n",
    "    Finally that updated string is returned by function in the end.\n",
    "'''\n",
    "\n",
    "def mutate_string(string, position, character):\n",
    "    changedString = list(string)    \n",
    "    changedString[position] = character\n",
    "    changedString = \"\".join(changedString)\n",
    "    return changedString\n",
    "\n",
    "''' Input taken by user as String (s), position (i), and character (c). All passed to function and returned string is stored in\n",
    "    variable named s_new. finally that is printed on screen.\n",
    "'''\n",
    "\n",
    "if __name__ == '__main__':\n",
    "    s = input()\n",
    "    i, c = input().split()\n",
    "    s_new = mutate_string(s, int(i), c)\n",
    "    print(s_new)"
   ]
  },
  {
   "cell_type": "markdown",
   "metadata": {},
   "source": [
    "5. Find a String"
   ]
  },
  {
   "cell_type": "code",
   "execution_count": null,
   "metadata": {},
   "outputs": [],
   "source": [
    "def count_substring(string, sub_string):    \n",
    "    count = 0\n",
    "    for outterLoop in range(len(string)-len(sub_string)+1):\n",
    "        sub_index = 0\n",
    "        for index in range(len((string))):\n",
    "            print(sub_index)\n",
    "    return count\n",
    "\n",
    "if __name__ == '__main__':\n",
    "    string = input().strip()\n",
    "    sub_string = input().strip()\n",
    " \n",
    "    count = count_substring(string, sub_string)\n",
    "    print(count)"
   ]
  },
  {
   "cell_type": "markdown",
   "metadata": {},
   "source": [
    "### Strings (all – total: 14 - max points: 220)\n",
    "### https://www.hackerrank.com/domains/python/py-strings\n"
   ]
  },
  {
   "cell_type": "markdown",
   "metadata": {},
   "source": [
    "1. sWAP cASE"
   ]
  },
  {
   "cell_type": "code",
   "execution_count": null,
   "metadata": {},
   "outputs": [],
   "source": [
    "''' \n",
    "The function swap_case swaps the case of each letter in a given string.\n",
    "'''\n",
    "def swap_case(s):\n",
    "    changedStr = \"\"\n",
    "    for ch in s:\n",
    "        if ch.isalpha():\n",
    "            if ch.islower():\n",
    "                changedStr+= ch.upper()\n",
    "            else:\n",
    "                changedStr+=ch.lower()\n",
    "        else:\n",
    "            changedStr+=ch\n",
    "    return changedStr\n",
    "\n",
    "''' Takes user input, applies swap_case, and prints the result. '''\n",
    "if __name__ == '__main__':\n",
    "    s = input()\n",
    "    result = swap_case(s)\n",
    "    print(result)"
   ]
  },
  {
   "cell_type": "markdown",
   "metadata": {},
   "source": [
    "2. String Split and Join"
   ]
  },
  {
   "cell_type": "code",
   "execution_count": null,
   "metadata": {},
   "outputs": [],
   "source": [
    "''' \n",
    "The function split_and_join splits a string by spaces and joins the words with dashes.\n",
    "'''\n",
    "def split_and_join(line):\n",
    "    line = line.split(\" \")\n",
    "    line = \"-\".join(line)\n",
    "    return line\n",
    "\n",
    "''' Takes user input, applies split_and_join, and prints the result. '''\n",
    "if __name__ == '__main__':\n",
    "    line = input()\n",
    "    result = split_and_join(line)\n",
    "    print(result)"
   ]
  },
  {
   "cell_type": "markdown",
   "metadata": {},
   "source": [
    "3. What's Your Name?"
   ]
  },
  {
   "cell_type": "code",
   "execution_count": null,
   "metadata": {},
   "outputs": [],
   "source": [
    "''' \n",
    "The function print_full_name prints a greeting message using the provided first and last name.\n",
    "'''\n",
    "def print_full_name(first, last):\n",
    "    greetings = \"Hello \" + first + \" \" + last + \"! You just delved into python.\"\n",
    "    print(greetings)\n",
    "\n",
    "''' Takes user input for first and last name, and passes them to print_full_name. '''\n",
    "if __name__ == '__main__':\n",
    "    first_name = input()\n",
    "    last_name = input()\n",
    "    print_full_name(first_name, last_name)"
   ]
  },
  {
   "cell_type": "markdown",
   "metadata": {},
   "source": [
    "4. Mutations"
   ]
  },
  {
   "cell_type": "code",
   "execution_count": null,
   "metadata": {},
   "outputs": [],
   "source": [
    "''' \n",
    "The function mutate_string replaces a character in the string at a given position.\n",
    "'''\n",
    "def mutate_string(string, position, character):\n",
    "    updatedString = list(string)\n",
    "    updatedString[position] = character\n",
    "    updatedString = \"\".join(updatedString)\n",
    "    return updatedString\n",
    "\n",
    "''' Takes user input, applies mutate_string, and prints the updated string. '''\n",
    "if __name__ == '__main__': \n",
    "    s = input() \n",
    "    i, c = input().split() \n",
    "    s_new = mutate_string(s, int(i), c) \n",
    "    print(s_new)\n"
   ]
  },
  {
   "cell_type": "markdown",
   "metadata": {},
   "source": [
    "5. Find a string"
   ]
  },
  {
   "cell_type": "code",
   "execution_count": null,
   "metadata": {},
   "outputs": [],
   "source": [
    "''' \n",
    "The function count_substring takes a string and a substring as input and counts the number of times the substring appears within the string.\n",
    "Initializes a counter to keep track of occurrences and indices for both the main string and the substring. Uses a while loop to iterate through \n",
    "the main string. Compares characters of the substring with the main string, updating indices as matches are found. If a complete match of the \n",
    "substring is found, increments the count and resets the substring index. Continues the search until the end of the string is reached, ensuring \n",
    "no overlapping occurrences are missed. Returns the total count of substring occurrences.\n",
    "''' \n",
    "def count_substring(string, sub_string):\n",
    "    \n",
    "    count = 0\n",
    "    sub_index = 0\n",
    "    s_index = 0\n",
    "    pointer=0\n",
    "    \n",
    "    while(pointer< len(string)):\n",
    "           \n",
    "        if (len(string)-len(sub_string)<pointer):\n",
    "            break   \n",
    "        \n",
    "        elif (string[s_index]==sub_string[sub_index]):\n",
    "            s_index+=1\n",
    "            sub_index+=1\n",
    "            \n",
    "            if (sub_index==len(sub_string)):\n",
    "                count+=1\n",
    "                sub_index=0\n",
    "                pointer+=1\n",
    "                s_index=pointer\n",
    "        \n",
    "        else:\n",
    "            pointer+=1\n",
    "            s_index=pointer\n",
    "            sub_index =0\n",
    "    return count\n",
    "\n",
    "'''\n",
    "The main block handles user input for the string and substring and outputs the count of occurrences.\n",
    "'''\n",
    "if __name__ == '__main__':\n",
    "    string = input().strip()\n",
    "    sub_string = input().strip()\n",
    "    \n",
    "    count = count_substring(string, sub_string)\n",
    "    print(count)"
   ]
  },
  {
   "cell_type": "markdown",
   "metadata": {},
   "source": [
    "6. String Validators"
   ]
  },
  {
   "cell_type": "code",
   "execution_count": null,
   "metadata": {},
   "outputs": [],
   "source": [
    "''' \n",
    "This code takes a string input and checks various properties of the string. It determines if the string contains alphanumeric characters, \n",
    "any alphabetic characters, any digits, any lowercase letters, and any uppercase letters. The results of these checks are printed to the console \n",
    "as boolean values.\n",
    "'''\n",
    "\n",
    "if __name__ == '__main__':\n",
    "    s = input()\n",
    "    \n",
    "    isAlNum = False\n",
    "    isAlpha = False\n",
    "    isDigit = False\n",
    "    isLower = False\n",
    "    isUpper = False\n",
    "    \n",
    "\n",
    "    for ch in s:\n",
    "\n",
    "        if ch.isalpha():\n",
    "            isAlpha = True\n",
    "            if ch.islower():\n",
    "                isLower = True\n",
    "            else:\n",
    "                isUpper = True\n",
    "    \n",
    "        elif isDigit==False and ch.isdigit():\n",
    "            isDigit = True\n",
    "\n",
    "    isAlNum = isAlpha or isDigit\n",
    "\n",
    "    print(isAlNum)\n",
    "    print(isAlpha)\n",
    "    print(isDigit)\n",
    "    print(isLower)\n",
    "    print(isUpper)\n",
    "    "
   ]
  },
  {
   "cell_type": "markdown",
   "metadata": {},
   "source": [
    "7. Text Alignment"
   ]
  },
  {
   "cell_type": "code",
   "execution_count": null,
   "metadata": {},
   "outputs": [],
   "source": [
    "#Replace all ______ with rjust, ljust or center. \n",
    "\n",
    "thickness = int(input()) #This must be an odd number\n",
    "c = 'H'\n",
    "#Top Cone\n",
    "for i in range(thickness):\n",
    "    print((c*i).rjust(thickness-1)+c+(c*i).ljust(thickness-1))\n",
    "#Top Pillars\n",
    "for i in range(thickness+1):\n",
    "    print((c*thickness).center(thickness*2)+(c*thickness).center(thickness*6))\n",
    "#Middle Belt\n",
    "for i in range((thickness+1)//2):\n",
    "    print((c*thickness*5).center(thickness*6))    \n",
    "#Bottom Pillars\n",
    "for i in range(thickness+1):\n",
    "    print((c*thickness).center(thickness*2)+(c*thickness).center(thickness*6))    \n",
    "#Bottom Cone\n",
    "for i in range(thickness):\n",
    "    print(((c*(thickness-i-1)).rjust(thickness)+c+(c*(thickness-i-1)).ljust(thickness)).rjust(thickness*6))\n"
   ]
  },
  {
   "cell_type": "markdown",
   "metadata": {},
   "source": [
    "8. Text Wrap"
   ]
  },
  {
   "cell_type": "code",
   "execution_count": null,
   "metadata": {},
   "outputs": [],
   "source": [
    "''' \n",
    "The function wrap takes a string and a maximum width as input and returns the string wrapped to the specified width. \n",
    "It utilizes the textwrap module to split the string into lines that do not exceed the maximum width. \n",
    "The wrapped lines are then joined with newline characters and returned as a single string.\n",
    "'''\n",
    "\n",
    "import textwrap\n",
    "\n",
    "def wrap(string, max_width):\n",
    "    wrappedText = textwrap.wrap(string, max_width)\n",
    "    return \"\\n\".join(wrappedText)\n",
    "\n",
    "''' The main block takes user input for the string and maximum width, calls the wrap function, and prints the wrapped text. '''\n",
    "if __name__ == '__main__':\n",
    "    string, max_width = input(), int(input())\n",
    "    result = wrap(string, max_width)\n",
    "    print(result)\n"
   ]
  },
  {
   "cell_type": "markdown",
   "metadata": {},
   "source": [
    "9. Designer Door Mat"
   ]
  },
  {
   "cell_type": "code",
   "execution_count": null,
   "metadata": {},
   "outputs": [],
   "source": [
    "''' \n",
    "This program creates a customized welcome banner using a specified number of lines (N) and a maximum width (M). \n",
    "It prints a symmetrical pattern of dots and dashes, with a central line containing the word \"WELCOME\". \n",
    "The pattern expands outward from the center line and includes a decreasing number of symbols as it approaches the top and bottom. \n",
    "The middle line is centered and contains the word \"WELCOME\", padded with dashes to fit the specified width.\n",
    "'''\n",
    "\n",
    "\n",
    "# Enter your code here. Read input from STDIN. Print output to STDOUT\n",
    "\n",
    "N,M = input().split()\n",
    "N = int(N)\n",
    "M = int(M)\n",
    "\n",
    "dash = '-'\n",
    "bar = '.|.'\n",
    "\n",
    "middleLineIndex = N//2\n",
    "isWelcomePrinted = False\n",
    "first_index = 0\n",
    "last_index = 0\n",
    "\n",
    "for i in range(N):\n",
    "    if i == middleLineIndex:\n",
    "        print(\"WELCOME\".center(M,dash))\n",
    "        isWelcomePrinted = True\n",
    "        last_index-=5\n",
    "        bar = bar[first_index:last_index]\n",
    "    else:\n",
    "        if isWelcomePrinted:\n",
    "            sub_bar = bar[first_index: (last_index)]\n",
    "            print(sub_bar.center(M, dash))\n",
    "            first_index+=3\n",
    "            last_index-=3\n",
    "\n",
    "        else:\n",
    "            print(bar.center(M,dash))\n",
    "            bar +='.|..|.'\n",
    "            last_index = len(bar)-1\n"
   ]
  },
  {
   "cell_type": "markdown",
   "metadata": {},
   "source": [
    "10. String Formatting"
   ]
  },
  {
   "cell_type": "code",
   "execution_count": null,
   "metadata": {},
   "outputs": [],
   "source": [
    "''' \n",
    "The function print_formatted takes an integer input and prints its representations in decimal, octal, hexadecimal, and binary formats. \n",
    "The output is formatted so that all representations are right-aligned within a width that corresponds to the length of the binary representation \n",
    "of the input number. The function iterates through the range from 1 to the given number, converting each integer to the respective formats and \n",
    "printing them in a formatted manner. The hexadecimal representation is printed in uppercase, and the output for each number is separated by spaces.\n",
    "'''\n",
    "\n",
    "def print_formatted(number):\n",
    "    # your code goes here\n",
    "    width = len(bin(number)) - 2    \n",
    "    \n",
    "    for i in range(1, number + 1):\n",
    "        result = [str(i).rjust(width), oct(i)[2:].rjust(width), hex(i)[2:].upper().rjust(width), bin(i)[2:].rjust(width)]\n",
    "        print(' '.join(result))\n",
    "\n",
    "if __name__ == '__main__':\n",
    "    n = int(input())\n",
    "    print_formatted(n)"
   ]
  },
  {
   "cell_type": "markdown",
   "metadata": {},
   "source": [
    "11. Alphabet Rangoli"
   ]
  },
  {
   "cell_type": "code",
   "execution_count": null,
   "metadata": {},
   "outputs": [],
   "source": [
    "\n",
    "''' \n",
    "The function print_rangoli generates a symmetric rangoli design based on the input size. \n",
    "It uses the lowercase letters of the English alphabet to create the pattern. The width of each row is \n",
    "calculated to ensure proper alignment. The function constructs each row by appending letters in a \n",
    "specific order, reversing the order for the left side, and then joining them with hyphens. \n",
    "Each row is then centered within the calculated width and printed to form a complete rangoli pattern. \n",
    "The rangoli design narrows down to a single letter at the top and widens to the full range of \n",
    "letters at the middle before mirroring back.\n",
    "'''\n",
    "\n",
    "def print_rangoli(size):\n",
    "    alphabet = [chr(97+i) for i in range(size)]  # Create a list of letters\n",
    "    columnWidth = 4 * size - 3  # Calculate the total width for the center alignment\n",
    "   \n",
    "    for i in range(size - 1, -size, -1):\n",
    "        rowString = []\n",
    "        for j in range(abs(i), size):\n",
    "            rowString.append(alphabet[j])     \n",
    "        \n",
    "        lineStr = rowString[::-1] + rowString[1:]  # Create the mirrored row\n",
    "        fullRow = '-'.join(lineStr)  # Join letters with hyphens\n",
    "        print(fullRow.center(columnWidth, '-'))  # Center the row and print\n",
    "\n",
    "if __name__ == '__main__':\n",
    "    n = int(input())\n",
    "    print_rangoli(n)\n",
    "\n",
    "def print_rangoli(size):\n",
    "    \n",
    "    alphabet = [chr(97+i) for i in range(size)]\n",
    "    columnWidth = 4 * size - 3\n",
    "   \n",
    "    for i in range(size - 1, -size, -1):\n",
    "        \n",
    "        rowString = []\n",
    "        for j in range(abs(i), size):\n",
    "            rowString.append(alphabet[j])     \n",
    "        \n",
    "        lineStr = rowString[::-1] + rowString[1:]\n",
    "        fullRow = '-'.join(lineStr)\n",
    "        print(fullRow.center(columnWidth, '-'))\n",
    "\n",
    "if __name__ == '__main__':\n",
    "    n = int(input())\n",
    "    print_rangoli(n)"
   ]
  },
  {
   "cell_type": "markdown",
   "metadata": {},
   "source": [
    "12. Capitalize!"
   ]
  },
  {
   "cell_type": "code",
   "execution_count": null,
   "metadata": {},
   "outputs": [],
   "source": [
    "''' \n",
    "The function solve takes a string as input and capitalizes the first letter of each word while keeping the rest of the letters unchanged. \n",
    "It splits the input string into individual words and iterates through each word to check if it starts with an alphabetical character. \n",
    "For valid words, the function constructs a new word with the first character capitalized and the rest unchanged. \n",
    "After processing all words, it joins them back into a single string with spaces and returns the result.\n",
    "'''\n",
    "\n",
    "# Complete the solve function below.\n",
    "def solve(s):       \n",
    "    subNames = s.split(' ') \n",
    "    for i in range(len(subNames)):\n",
    "        if len(subNames[i])>0 and subNames[i][0].isalpha():\n",
    "            capitalizedName = \"\"\n",
    "            for ch in subNames[i]:\n",
    "                if len(capitalizedName)==0:\n",
    "                    capitalizedName+=ch.upper()\n",
    "                else:\n",
    "                    capitalizedName+=ch\n",
    "            subNames[i] = capitalizedName\n",
    "        else:\n",
    "            continue\n",
    "    return ' '.join(subNames)\n",
    "\n",
    "if __name__ == '__main__':\n",
    "\n",
    "    s = input()\n",
    "\n",
    "    result = solve(s)\n",
    "\n",
    "    print(result)"
   ]
  },
  {
   "cell_type": "markdown",
   "metadata": {},
   "source": [
    "### Sets (all – total: 13 - max points: 170)\n",
    "### https://www.hackerrank.com/domains/python/py-sets"
   ]
  },
  {
   "cell_type": "markdown",
   "metadata": {},
   "source": [
    "1. Introduction to Sets"
   ]
  },
  {
   "cell_type": "code",
   "execution_count": null,
   "metadata": {},
   "outputs": [],
   "source": [
    "''' \n",
    "The function average computes the average of unique integers from an input array. \n",
    "It first converts the array into a set to eliminate any duplicate values, ensuring \n",
    "only unique elements are considered. The average is then calculated by summing the \n",
    "unique values and dividing by their count. The function returns the computed average.\n",
    "'''\n",
    "\n",
    "\n",
    "def average(array):\n",
    "    # your code goes here\n",
    "    setH = set(array)\n",
    "    average = sum(setH)/len(setH)\n",
    "    return average \n",
    "    \n",
    "if __name__ == '__main__':\n",
    "    n = int(input())\n",
    "    arr = list(map(int, input().split()))\n",
    "    result = average(arr)\n",
    "    print(result)"
   ]
  },
  {
   "cell_type": "markdown",
   "metadata": {},
   "source": [
    "2. No Idea!"
   ]
  },
  {
   "cell_type": "code",
   "execution_count": null,
   "metadata": {},
   "outputs": [],
   "source": [
    "''' \n",
    "The function Happiness calculates the happiness score based on the presence of elements \n",
    "from two sets, A and B, in an input array. Each element in the array contributes +1 to the \n",
    "score if it is found in set A and -1 if it is found in set B. The function iterates through \n",
    "the input array, updating the happiness score accordingly. Finally, it returns the total score. \n",
    "The main block reads input values, initializes the sets, and calls the Happiness function, \n",
    "printing the resulting score.\n",
    "'''\n",
    "\n",
    "# Enter your code here. Read input from STDIN. Print output to STDOUT\n",
    "\n",
    "def Happiness(arr,A,B):\n",
    "    \n",
    "    Counter = 0\n",
    "    \n",
    "    for i in arr:\n",
    "        if i in A:\n",
    "            Counter+=1\n",
    "        elif i in B:\n",
    "            Counter-=1\n",
    "    \n",
    "    return Counter\n",
    "\n",
    "n, m = input().split()\n",
    "n = int(n)\n",
    "m = int(m) \n",
    "arr = list(map(int, input().split()))\n",
    "A = set(map(int, input().split()))\n",
    "B = set(map(int, input().split()))\n",
    "\n",
    "Points = Happiness(arr,A,B) \n",
    "print(Points)"
   ]
  },
  {
   "cell_type": "markdown",
   "metadata": {},
   "source": [
    "3. Symmetric Difference"
   ]
  },
  {
   "cell_type": "code",
   "execution_count": null,
   "metadata": {},
   "outputs": [],
   "source": [
    "''' \n",
    "This code reads two sets of integers from user input, A and B. It computes the intersection, \n",
    "union, and symmetric difference of the two sets. The intersection contains elements common to both \n",
    "sets, while the union contains all unique elements from both sets. The symmetric difference contains \n",
    "elements that are in either set but not in both. The result is sorted and printed, displaying \n",
    "only the unique elements present in either set A or B, excluding those found in both.\n",
    "'''\n",
    "\n",
    "M = input()\n",
    "M = int(M)\n",
    "A = set(map(int, input().split()))\n",
    "\n",
    "N = input()\n",
    "N = int(N) \n",
    "B = set(map(int, input().split()))\n",
    "\n",
    "\n",
    "intersectionSet = A.intersection(B)\n",
    "unionSet = A.union(B)\n",
    "\n",
    "symmetricSet = unionSet.difference(intersectionSet)\n",
    "\n",
    "SortedSet = sorted(list(symmetricSet))\n",
    "for element in SortedSet:\n",
    "    print(element)"
   ]
  },
  {
   "cell_type": "markdown",
   "metadata": {},
   "source": [
    "4. Set .add()"
   ]
  },
  {
   "cell_type": "code",
   "execution_count": null,
   "metadata": {},
   "outputs": [],
   "source": [
    "''' \n",
    "This code reads a specified number of country names from user input and stores them in a set \n",
    "to ensure uniqueness. It first reads an integer N, which indicates how many country names will \n",
    "be entered. For each country name provided, it adds the name to a set called countriesList. \n",
    "Since sets automatically handle duplicates, the final count of unique countries is printed at the end.\n",
    "'''\n",
    "\n",
    "N = int(input())\n",
    "countriesList = set()\n",
    "for i in range(N):\n",
    "    country = input()\n",
    "    countriesList.add(country)\n",
    "print(len(countriesList))"
   ]
  },
  {
   "cell_type": "markdown",
   "metadata": {},
   "source": [
    "5. Set .discard(), .remove() & .pop()"
   ]
  },
  {
   "cell_type": "code",
   "execution_count": null,
   "metadata": {},
   "outputs": [],
   "source": [
    "''' \n",
    "This code performs a series of set operations based on user input. It begins by reading an integer \n",
    "n, representing the number of elements in the set, and then reads n integers to create the set s. \n",
    "Next, it reads an integer operationsSize, indicating how many operations will be performed on the set. \n",
    "For each operation, it can either pop an element from the set, remove a specific element, or discard \n",
    "an element (which does not raise an error if the element is not present). \n",
    "Finally, the code calculates and prints the sum of the remaining elements in the set after all operations.\n",
    "'''\n",
    "\n",
    "\n",
    "n = int(input())\n",
    "s = set(map(int, input().split()))\n",
    "\n",
    "operationsSize = int(input())\n",
    "\n",
    "for i in range(operationsSize):\n",
    "    \n",
    "    operation  = input().split()\n",
    "    \n",
    "    if operation[0]==\"pop\":\n",
    "        s.pop()\n",
    "    elif operation[0] ==\"remove\":\n",
    "        s.remove(int(operation[1]))\n",
    "    elif operation[0] ==\"discard\":\n",
    "        s.discard(int(operation[1]))\n",
    "\n",
    "print(sum(list(s)))"
   ]
  },
  {
   "cell_type": "markdown",
   "metadata": {},
   "source": [
    "6. Set .union() Operation"
   ]
  },
  {
   "cell_type": "code",
   "execution_count": null,
   "metadata": {},
   "outputs": [],
   "source": [
    "''' \n",
    "This code reads two sets of integers from user input and calculates the number of unique elements \n",
    "present in either set. It first reads an integer A, which indicates the number of elements in set A, \n",
    "followed by A integers to create setA. It then reads an integer B for the number of elements in set B \n",
    "and reads B integers to create setB. Finally, it calculates the union of both sets and prints the \n",
    "total count of unique elements in the union.\n",
    "'''\n",
    "\n",
    "A = int(input())\n",
    "setA = set(map(int, input().split()))\n",
    "\n",
    "B = int(input())\n",
    "setB = set(map(int, input().split()))\n",
    "print(len(setA.union(setB)))\n"
   ]
  },
  {
   "cell_type": "markdown",
   "metadata": {},
   "source": [
    "7. Set .intersection() Operation"
   ]
  },
  {
   "cell_type": "code",
   "execution_count": null,
   "metadata": {},
   "outputs": [],
   "source": [
    "''' \n",
    "This code reads two sets of integers representing student IDs enrolled in English and French courses \n",
    "and calculates the number of students enrolled in both courses. It begins by reading an integer n, \n",
    "which indicates the number of students in the English course, followed by n integers to create the \n",
    "set `EnglishCourse`. It then reads an integer b for the number of students in the French course \n",
    "and reads b integers to create the set `FrenchCourse`. Finally, it computes the intersection of both \n",
    "sets and prints the count of unique student IDs enrolled in both courses.\n",
    "'''\n",
    "\n",
    "n = int(input())\n",
    "EnglishCourse = set(map(int, input().split()))\n",
    "\n",
    "b = int(input())\n",
    "FrenchCourse = set(map(int, input().split()))\n",
    "\n",
    "print(len(EnglishCourse.intersection(FrenchCourse)))"
   ]
  },
  {
   "cell_type": "markdown",
   "metadata": {},
   "source": [
    "8. Set .difference() Operation"
   ]
  },
  {
   "cell_type": "code",
   "execution_count": null,
   "metadata": {},
   "outputs": [],
   "source": [
    "''' \n",
    "This code reads two sets of integers representing the unique identifiers of articles published in \n",
    "English and French newspapers and calculates the number of articles published exclusively in the \n",
    "English newspaper. It begins by reading an integer n, which indicates the number of articles in the \n",
    "English newspaper, followed by n integers to create the set `EnglishNewspaper`. It then reads an \n",
    "integer b for the number of articles in the French newspaper and reads b integers to create the \n",
    "set `FrenchNewspaper`. Finally, it computes the difference between the two sets and prints the count \n",
    "of articles that are only in the English newspaper.\n",
    "'''\n",
    "\n",
    "n = int(input())\n",
    "EnglishNewspaper = set(map(int, input().split()))\n",
    "\n",
    "b = int(input())\n",
    "FrenchNewspaper = set(map(int, input().split()))\n",
    "\n",
    "print(len(EnglishNewspaper.difference(FrenchNewspaper)))"
   ]
  },
  {
   "cell_type": "markdown",
   "metadata": {},
   "source": [
    "9. Set .symmetric_difference() Operation"
   ]
  },
  {
   "cell_type": "code",
   "execution_count": null,
   "metadata": {},
   "outputs": [],
   "source": [
    "''' \n",
    "This code calculates the number of unique articles that are published in either the English or French \n",
    "newspapers but not in both. It begins by reading an integer n, which represents the number of articles \n",
    "in the English newspaper, followed by n integers to create the set `EnglishNewspaper`. It then reads \n",
    "an integer b for the number of articles in the French newspaper and reads b integers to create the \n",
    "set `FrenchNewspaper`. Finally, it computes the symmetric difference between the two sets, which \n",
    "represents the articles that are unique to each newspaper, and prints the count of these articles.\n",
    "''' \n",
    "\n",
    "n = int(input())\n",
    "EnglishNewspaper = set(map(int, input().split()))\n",
    "\n",
    "b = int(input())\n",
    "FrenchNewspaper = set(map(int, input().split()))\n",
    "\n",
    "print(len(EnglishNewspaper.symmetric_difference(FrenchNewspaper)))"
   ]
  },
  {
   "cell_type": "markdown",
   "metadata": {},
   "source": [
    "10. Set Mutations"
   ]
  },
  {
   "cell_type": "code",
   "execution_count": null,
   "metadata": {},
   "outputs": [],
   "source": [
    "'''\n",
    "This program reads an initial set, setA, and performs a series of set operations on it. The operations \n",
    "include intersection_update, update, symmetric_difference_update, and difference_update. \n",
    "For each operation, a new set is provided, and the corresponding update modifies setA. \n",
    "After processing all operations, the program outputs the sum of the remaining elements in setA.\n",
    "'''\n",
    "\n",
    "setA_length = int(input())\n",
    "setA = set(map(int, input().split()))\n",
    "\n",
    "otherSetsLength = int(input())\n",
    "\n",
    "for i in range(otherSetsLength):\n",
    "    operation, OtherSetElementsLength = input().split()\n",
    "    OtherSetElementsLength = int(OtherSetElementsLength)\n",
    "    otherSetElements = set(map(int, input().split()))\n",
    "\n",
    "    if operation == \"intersection_update\":\n",
    "        setA.intersection_update(otherSetElements)\n",
    "    elif operation == \"update\":\n",
    "        setA.update(otherSetElements)\n",
    "    elif operation == \"symmetric_difference_update\":\n",
    "        setA.symmetric_difference_update(otherSetElements)\n",
    "    elif operation == \"difference_update\":\n",
    "        setA.difference_update(otherSetElements)\n",
    "\n",
    "print(sum(list(setA)))"
   ]
  },
  {
   "cell_type": "markdown",
   "metadata": {},
   "source": [
    "11. The Captain's Room"
   ]
  },
  {
   "cell_type": "code",
   "execution_count": null,
   "metadata": {},
   "outputs": [],
   "source": [
    "'''\n",
    "This program finds the Captain's room number from a list of room numbers assigned to tourists.\n",
    "It reads the size of each family group and the room numbers, counting how many times each room number appears.\n",
    "A dictionary is used to keep track of the counts of each room number.\n",
    "After counting, the program checks for room numbers that do not match the expected count of family members (K).\n",
    "The room number that appears a different number of times than K is identified as the Captain's room and printed.\n",
    "'''\n",
    "\n",
    "K = int(input())\n",
    "membersList = list(map(int, input().split()))\n",
    "\n",
    "roomCount = {}\n",
    "\n",
    "for room in membersList:\n",
    "    if room in roomCount:\n",
    "        roomCount[room] += 1\n",
    "    else:\n",
    "        roomCount[room] = 1\n",
    "\n",
    "for room, count in roomCount.items():\n",
    "    if count != K:\n",
    "        print(room)\n",
    "        break  "
   ]
  },
  {
   "cell_type": "markdown",
   "metadata": {},
   "source": [
    "12. Check Subset"
   ]
  },
  {
   "cell_type": "code",
   "execution_count": null,
   "metadata": {},
   "outputs": [],
   "source": [
    "'''\n",
    "This program checks if one set, SetA, is a subset of another set, SetB, for multiple test cases.\n",
    "For each test case, it reads the two sets and compares them.\n",
    "If SetA has no elements outside of SetB, it prints True; otherwise, it prints False.\n",
    "'''\n",
    "\n",
    "T = int(input())\n",
    "\n",
    "for i in range(T):\n",
    "    lenghOfSetA = int(input())\n",
    "    SetA = set(map(int, input().split()))\n",
    "    lenghOfSetB = int(input())\n",
    "    SetB = set(map(int, input().split()))\n",
    "    \n",
    "    if len(SetA.difference(SetB)) == 0:\n",
    "        print(True)\n",
    "    else:\n",
    "        print(False)"
   ]
  },
  {
   "cell_type": "markdown",
   "metadata": {},
   "source": [
    "12. Check Strick Superset"
   ]
  },
  {
   "cell_type": "code",
   "execution_count": null,
   "metadata": {},
   "outputs": [],
   "source": [
    "'''\n",
    "This program checks if a given set, setA, is a strict superset of multiple other sets.\n",
    "It reads setA and then reads multiple other sets to compare.\n",
    "For each set, it verifies if setA is a strict superset, meaning it must contain all elements of the other set but also have additional elements.\n",
    "The program outputs whether setA is a strict superset of all given sets.\n",
    "'''\n",
    "\n",
    "setA = set(map(int, input().split()))\n",
    "\n",
    "N = int(input())\n",
    "listOfSets = []\n",
    "for i in range(N):\n",
    "    currentSet = set(map(int, input().split()))\n",
    "    listOfSets.append(currentSet)\n",
    "\n",
    "isSuperSetOfAllSets = True\n",
    "\n",
    "for SetI in listOfSets:\n",
    "    isSubSet = True\n",
    "    \n",
    "    for element in SetI:\n",
    "        if element in setA:\n",
    "            continue\n",
    "        else:\n",
    "            isSubSet = False\n",
    "            break\n",
    "    \n",
    "    if isSubSet==False:\n",
    "        isSuperSetOfAllSets = False\n",
    "    else:\n",
    "        if len(setA.difference(SetI))==0:\n",
    "            isSuperSetOfAllSets = False\n",
    "\n",
    "print(isSuperSetOfAllSets)            "
   ]
  },
  {
   "cell_type": "markdown",
   "metadata": {},
   "source": [
    "### Collections (all – total: 8 - max points: 220)\n",
    "### https://www.hackerrank.com/domains/python/py-collections\n"
   ]
  },
  {
   "cell_type": "markdown",
   "metadata": {},
   "source": [
    "1. collections.Counter()"
   ]
  },
  {
   "cell_type": "code",
   "execution_count": null,
   "metadata": {},
   "outputs": [],
   "source": [
    "'''\n",
    "This program calculates the total earnings from selling shoes based on customer demands.\n",
    "It first reads the number of shoes and their sizes into a list.\n",
    "Then it reads the number of customers and their requests for shoe sizes and prices.\n",
    "The program uses the Counter class to keep track of available shoe sizes.\n",
    "For each customer, if the requested shoe size is available, the program adds the price to the total earnings \n",
    "and decreases the count of that shoe size. Finally, it outputs the total earnings from all successful sales.\n",
    "'''\n",
    "\n",
    "from collections import Counter\n",
    "\n",
    "NumberOfShoes = int(input())\n",
    "ShoesSizes = list(map(int, input().split()))\n",
    "NumberOfCustomers = int(input())\n",
    "shoesPriceList = Counter(ShoesSizes)\n",
    "\n",
    "earning = 0\n",
    "\n",
    "for i in range(NumberOfCustomers):\n",
    "    size , price = map(int , input().split())\n",
    "    \n",
    "    if shoesPriceList[size]>0:\n",
    "        earning+=price\n",
    "        shoesPriceList[size]-=1\n",
    "    else:\n",
    "        continue\n",
    "print(earning)"
   ]
  },
  {
   "cell_type": "markdown",
   "metadata": {},
   "source": [
    "2. DefaultDict Tutorial"
   ]
  },
  {
   "cell_type": "code",
   "execution_count": null,
   "metadata": {},
   "outputs": [],
   "source": [
    "'''\n",
    "This program checks the presence of words from group B in group A and returns their indices.\n",
    "It starts by reading the sizes of both groups and initializes a defaultdict to store the words.\n",
    "Words from group A are stored in the dictionary under the key 'groupA' and words from group B under 'groupB'.\n",
    "For each word in group B, the program checks if it exists in group A.\n",
    "If the word is found, it prints the index (1-based) of the first occurrence; otherwise, it prints -1.\n",
    "'''\n",
    "\n",
    "from collections import defaultdict\n",
    "\n",
    "WordsDictionary = defaultdict(list)\n",
    "\n",
    "groupAsize, groupBsize = map(int, input().split())\n",
    "\n",
    "for i in range(groupAsize):\n",
    "    word = input()\n",
    "    WordsDictionary['groupA'].append(word)\n",
    "\n",
    "for i in range(groupBsize):\n",
    "    word = input()\n",
    "    WordsDictionary['groupB'].append(word)\n",
    "    \n",
    "for wordOfB in WordsDictionary['groupB']:\n",
    "    notInGroupOfAwords = True\n",
    "    for IndexOfWordOfA in range(len(WordsDictionary['groupA'])):\n",
    "        if wordOfB==WordsDictionary['groupA'][IndexOfWordOfA]:\n",
    "            print(IndexOfWordOfA+1, end=\" \")\n",
    "            notInGroupOfAwords = False\n",
    "    \n",
    "    if notInGroupOfAwords:\n",
    "        print(-1, end=\"\")\n",
    "    print()    "
   ]
  },
  {
   "cell_type": "markdown",
   "metadata": {},
   "source": [
    "3. Collections.namedtuple()"
   ]
  },
  {
   "cell_type": "code",
   "execution_count": null,
   "metadata": {},
   "outputs": [],
   "source": [
    "'''\n",
    "This program calculates the average marks of a group of students.\n",
    "It first reads the number of students and the column names (attributes) of each student's data.\n",
    "Using `namedtuple`, the program creates a template for storing student information.\n",
    "For each student, it collects their data, extracts the marks, and adds them to a running total.\n",
    "Finally, it calculates and prints the average marks with a precision of two decimal places.\n",
    "'''\n",
    "\n",
    "from collections import namedtuple\n",
    "\n",
    "numStudents = int(input())\n",
    "columns = input().split()\n",
    "Student = namedtuple('Student', columns)\n",
    "totalMarks = 0\n",
    "\n",
    "for _ in range(numStudents):\n",
    "    studentData = input().split()\n",
    "    student = Student(*studentData)\n",
    "    totalMarks += int(student.MARKS)\n",
    "\n",
    "averageMarks = totalMarks / numStudents\n",
    "print(f\"{averageMarks:.2f}\")"
   ]
  },
  {
   "cell_type": "markdown",
   "metadata": {},
   "source": [
    "4. Collections.OrderedDict()"
   ]
  },
  {
   "cell_type": "code",
   "execution_count": null,
   "metadata": {},
   "outputs": [],
   "source": [
    "'''\n",
    "This program keeps track of items and their total prices in a supermarket using an ordered dictionary.\n",
    "It first reads the total number of products.\n",
    "For each product, it separates the name from the price, ensuring multi-word names are handled correctly.\n",
    "If the product already exists in the dictionary, its price is updated by adding the new price.\n",
    "Finally, it prints the item names along with their total prices, maintaining the order of input.\n",
    "'''\n",
    "\n",
    "from collections import OrderedDict\n",
    "\n",
    "supermarketStore = OrderedDict()\n",
    "\n",
    "totalProducts = int(input())\n",
    "\n",
    "for i in range(totalProducts):\n",
    "    ItemNameAndPrice = input().split()\n",
    "    ItemPrice = int(ItemNameAndPrice[-1])\n",
    "    ItemName = \" \".join(ItemNameAndPrice[:-1])\n",
    "    \n",
    "    if ItemName in supermarketStore.keys():\n",
    "        supermarketStore[ItemName]+=ItemPrice\n",
    "    else:\n",
    "        supermarketStore[ItemName] = ItemPrice\n",
    "\n",
    "for Item, Price in supermarketStore.items():\n",
    "    print(f\"{Item} {Price}\")"
   ]
  },
  {
   "cell_type": "markdown",
   "metadata": {},
   "source": [
    "5. Word Order"
   ]
  },
  {
   "cell_type": "code",
   "execution_count": null,
   "metadata": {},
   "outputs": [],
   "source": [
    "''' This program counts the occurrences of words in the input using an ordered dictionary.\n",
    "It first reads the total number of words.\n",
    "For each word, it checks if the word already exists in the dictionary.\n",
    "If the word is found, its count is incremented; otherwise, it is added to the dictionary with a count of one.\n",
    "The program then prints the total number of distinct words followed by the count of occurrences for each word in the order of input.\n",
    "'''\n",
    "\n",
    "from collections import OrderedDict\n",
    "\n",
    "WordCounter = OrderedDict()\n",
    "\n",
    "totalWords = int(input())\n",
    "\n",
    "for i in range(totalWords):\n",
    "    currentWord  = input()\n",
    "    \n",
    "    if currentWord in WordCounter.keys():\n",
    "        WordCounter[currentWord]+=1\n",
    "    else:\n",
    "        WordCounter[currentWord] = 1\n",
    "\n",
    "print(len(WordCounter.keys()))\n",
    "\n",
    "for occurences in WordCounter.values():\n",
    "    print(occurences, end=\" \")"
   ]
  },
  {
   "cell_type": "markdown",
   "metadata": {},
   "source": [
    "6. Collections.deque()"
   ]
  },
  {
   "cell_type": "code",
   "execution_count": null,
   "metadata": {},
   "outputs": [],
   "source": [
    "''' \n",
    "This program implements a double-ended queue (deque) and performs various operations based on user input.\n",
    "It starts by initializing an empty deque.\n",
    "The program then reads the number of operations to perform.\n",
    "For each operation, it checks the command and performs the corresponding action on the deque, such as appending an element, appending an element to the left, popping an element from the right, or popping an element from the left.\n",
    "Finally, it prints the elements of the deque in the order they are stored.\n",
    "'''\n",
    "\n",
    "from collections import deque\n",
    "\n",
    "D = deque()\n",
    "N = int(input())\n",
    "\n",
    "for i in range(N):\n",
    "    operation = input().split()\n",
    "    \n",
    "    if operation[0]==\"append\":\n",
    "        D.append(int(operation[1]))\n",
    "    elif operation[0]==\"appendleft\":\n",
    "        D.appendleft(int(operation[1]))\n",
    "    elif operation[0]==\"pop\":\n",
    "        D.pop()\n",
    "    elif operation[0]==\"popleft\":\n",
    "        D.popleft()\n",
    "\n",
    "for i in D:\n",
    "    print(i, end=\" \")"
   ]
  },
  {
   "cell_type": "markdown",
   "metadata": {},
   "source": [
    "7. Company Logo"
   ]
  },
  {
   "cell_type": "code",
   "execution_count": null,
   "metadata": {},
   "outputs": [],
   "source": [
    "''' This program counts the occurrences of each character in a given string and then sorts the characters based on their frequency.\n",
    "First, it defines a custom sorting function that sorts primarily by the negative frequency (to get descending order) and secondarily\n",
    "by the character itself (in ascending order). The program reads a string input and initializes a dictionary to keep track of character counts.\n",
    "For each character in the string, it updates the dictionary with the count.\n",
    "After counting, it converts the dictionary items into a list and sorts it using the custom sorting function.\n",
    "Finally, it prints the top three characters along with their counts.\n",
    "'''\n",
    "\n",
    "def customSort(item):\n",
    "    return (-item[1], item[0]) \n",
    "\n",
    "\n",
    "S = input()\n",
    "Characters = {}\n",
    "\n",
    "for ch in S:\n",
    "    \n",
    "    if ch in Characters.keys():\n",
    "        Characters[ch]+=1\n",
    "    else:\n",
    "        Characters[ch] = 1\n",
    "\n",
    "sortedCharactersByValue = list(Characters.items())\n",
    "\n",
    "sortedCharactersByValue.sort(key=customSort)\n",
    "\n",
    "counter = 0\n",
    "for key, value in sortedCharactersByValue:\n",
    "    print(f\"{key} {value}\")\n",
    "    counter+=1\n",
    "    if counter==3:\n",
    "        break"
   ]
  },
  {
   "cell_type": "markdown",
   "metadata": {},
   "source": [
    "8. Piling Up!"
   ]
  },
  {
   "cell_type": "code",
   "execution_count": null,
   "metadata": {},
   "outputs": [],
   "source": [
    "'''\n",
    "This program determines if a sequence of blocks can be stacked in a particular order, where each block placed on \n",
    "the stack must be equal to or smaller than the previous one. It first reads the number of test cases, then processes each case individually.\n",
    "For each test case, the program reads the number of blocks and their sizes, and attempts to stack them, choosing blocks from either end of the list of sizes.\n",
    "It checks whether the current block can be placed on top of the stack by comparing it with the previously placed block.\n",
    "If at any point, a block cannot be placed in the correct order, the sequence is marked as invalid.\n",
    "At the end, it prints \"Yes\" if the blocks can be stacked correctly, and \"No\" otherwise.\n",
    "'''\n",
    "\n",
    "\n",
    "\n",
    "N = int(input())\n",
    "\n",
    "possibleStacks = []\n",
    "for i in range(N):\n",
    "    \n",
    "    size = int(input())\n",
    "    elements = list(map(int, input().split()))\n",
    "    \n",
    "    leftIndex = 0\n",
    "    rigthIndex = len(elements)-1\n",
    "    \n",
    "    currentBlock = []\n",
    "    possibleBLock = True\n",
    "\n",
    "    for index in range(len(elements)):\n",
    "        if len(currentBlock)>0:\n",
    "               \n",
    "            if currentBlock[index-1]>=elements[leftIndex] and currentBlock[index-1]>=elements[rigthIndex]:\n",
    "                if elements[leftIndex]>elements[rigthIndex]:     \n",
    "                    currentBlock.append(elements[leftIndex])\n",
    "                    leftIndex+=1\n",
    "                elif elements[rigthIndex]>elements[leftIndex]:\n",
    "                    currentBlock.append(elements[rigthIndex])\n",
    "                    rigthIndex-=1\n",
    "                elif elements[leftIndex]==elements[rigthIndex]:\n",
    "                    currentBlock.append(elements[leftIndex])\n",
    "                    leftIndex+=1\n",
    "            else:\n",
    "                possibleBLock = False\n",
    "                break\n",
    "        else:\n",
    "            if elements[leftIndex]>elements[rigthIndex]:\n",
    "                currentBlock.append(elements[leftIndex])\n",
    "                leftIndex+=1\n",
    "            elif elements[rigthIndex]>elements[leftIndex]:\n",
    "                currentBlock.append(elements[rigthIndex])\n",
    "                rigthIndex-=1\n",
    "            elif elements[leftIndex]==elements[rigthIndex]:\n",
    "                currentBlock.append(elements[leftIndex])\n",
    "                leftIndex+=1\n",
    "    \n",
    "    if possibleBLock:\n",
    "        possibleStacks.append(\"Yes\")\n",
    "    else:\n",
    "        possibleStacks.append(\"No\")        \n",
    "for block in possibleStacks:\n",
    "    print(block) "
   ]
  },
  {
   "cell_type": "markdown",
   "metadata": {},
   "source": [
    "### Date and Time (all – total: 2 - max points: 40)\n",
    "### https://www.hackerrank.com/domains/python/py-date-time"
   ]
  },
  {
   "cell_type": "markdown",
   "metadata": {},
   "source": [
    "1. Calender Module"
   ]
  },
  {
   "cell_type": "code",
   "execution_count": null,
   "metadata": {},
   "outputs": [],
   "source": [
    "''' \n",
    "This program takes a specific date as input in the form of month, day, and year.\n",
    "It then determines the day of the week for that date using Python's `calendar` module.\n",
    "First, the program parses the input and converts the date values to integers.\n",
    "Then, it uses the `calendar.weekday()` function to get the corresponding weekday, which returns an integer where 0 represents Monday and 6 represents Sunday.\n",
    "Finally, it retrieves the full name of the day from the `calendar.day_name` list and prints it in uppercase letters.\n",
    "\n",
    "'''\n",
    "\n",
    "import calendar\n",
    "month, day, year = list(map(int,input().split()))\n",
    "DAY = calendar.weekday(year,month, day)\n",
    "print((calendar.day_name[DAY]).upper())"
   ]
  },
  {
   "cell_type": "markdown",
   "metadata": {},
   "source": [
    "2. Time Delta"
   ]
  },
  {
   "cell_type": "code",
   "execution_count": null,
   "metadata": {},
   "outputs": [],
   "source": [
    "'''\n",
    "This program calculates the absolute time difference between two given timestamps in seconds.\n",
    "It uses the `dateutil` library to parse the input timestamps and then computes the difference.\n",
    "The `time_delta` function takes two timestamp strings as input, converts them to datetime objects, \n",
    "and calculates the absolute difference in seconds. The main part of the program reads a number of test cases,\n",
    "processes each pair of timestamps, and collects their time differences.\n",
    "Finally, it prints the time differences for all test cases.\n",
    "'''\n",
    "\n",
    "import datetime\n",
    "from dateutil import parser\n",
    "\n",
    "# Complete the time_delta function below.\n",
    "def time_delta(t1, t2):\n",
    "    time1 = parser.parse(t1)\n",
    "    time2 = parser.parse(t2)\n",
    "    difference = abs(int((time1 - time2).total_seconds()))\n",
    "    return difference\n",
    "\n",
    "testCases = int(input())\n",
    "timeDifferenceList = []\n",
    "for i in range(testCases):\n",
    "    time1  = input()\n",
    "    time2  = input()\n",
    "    currentTimeDifference = time_delta(time1, time2)\n",
    "    timeDifferenceList.append(currentTimeDifference)\n",
    "\n",
    "for time in timeDifferenceList:\n",
    "    print(time)"
   ]
  },
  {
   "cell_type": "markdown",
   "metadata": {},
   "source": [
    "### Exceptions (only 1 - max points: 10)\n",
    "### https://www.hackerrank.com/challenges/exceptions\n"
   ]
  },
  {
   "cell_type": "markdown",
   "metadata": {},
   "source": [
    "1. Exceptions"
   ]
  },
  {
   "cell_type": "code",
   "execution_count": null,
   "metadata": {},
   "outputs": [],
   "source": [
    "'''\n",
    "This program performs integer division for a series of test cases provided by the user.\n",
    "It reads the number of test cases and processes each case by attempting to divide two numbers.\n",
    "The numbers are input as strings, which are then converted to integers.\n",
    "If a division by zero occurs, it catches the `ZeroDivisionError` and appends an error message to the responses.\n",
    "Similarly, if a value conversion fails, it catches the `ValueError` and adds an appropriate error message.\n",
    "Finally, the program prints out the results for all test cases, including any error messages.\n",
    "'''\n",
    "\n",
    "testCases = int(input())\n",
    "\n",
    "Responses = []\n",
    "\n",
    "for i in range(testCases):\n",
    "    num1, num2 = input().split()\n",
    "\n",
    "    try:\n",
    "        result = int(num1) // int(num2)\n",
    "        Responses.append(result)\n",
    "    except ZeroDivisionError as e:\n",
    "        Responses.append(\"Error Code: \" + str(e))\n",
    "    except ValueError as e:\n",
    "        Responses.append(\"Error Code: \" + str(e))\n",
    "\n",
    "for res in Responses:\n",
    "    print(res)"
   ]
  },
  {
   "cell_type": "markdown",
   "metadata": {},
   "source": [
    "### Built-ins (only 3 - max points: 80)\n",
    "### https://www.hackerrank.com/challenges/zipped\n",
    "### https://www.hackerrank.com/challenges/python-sort-sort\n",
    "### https://www.hackerrank.com/challenges/ginorts\n"
   ]
  },
  {
   "cell_type": "markdown",
   "metadata": {},
   "source": [
    "1. Zipped!"
   ]
  },
  {
   "cell_type": "code",
   "execution_count": null,
   "metadata": {},
   "outputs": [],
   "source": [
    "'''\n",
    "This program calculates and prints the average marks for a group of students across multiple subjects.\n",
    "It begins by reading the total number of students and subjects from input.\n",
    "Next, it initializes a list to store the marks for each subject.\n",
    "The program then collects the marks for each subject, appending them to the list.\n",
    "Using the `zip` function, it groups the marks by student, allowing for easy access to each student's marks across all subjects.\n",
    "For each student, it computes the total marks by summing their subject marks and then calculates the average by dividing the total by the number of subjects.\n",
    "Finally, it prints the average marks for each student.\n",
    "'''\n",
    "\n",
    "NumberOfStudents, NumberOfSubjects = list(map(int, input().split()))\n",
    "\n",
    "SubjectMarks = []\n",
    "for sub in range(NumberOfSubjects):\n",
    "    marks = list(map(float, input().split()))\n",
    "    SubjectMarks.append(marks)\n",
    "\n",
    "StdMars = zip(*SubjectMarks)\n",
    "for stdRecord in tuple(StdMars):\n",
    "    totalMarks = 0\n",
    "    for marks in stdRecord:\n",
    "        totalMarks += marks\n",
    "    print(totalMarks / NumberOfSubjects)"
   ]
  },
  {
   "cell_type": "markdown",
   "metadata": {},
   "source": [
    "2. python sort out"
   ]
  },
  {
   "cell_type": "code",
   "execution_count": null,
   "metadata": {},
   "outputs": [],
   "source": [
    "'''\n",
    "This program sorts athlete data based on a specified attribute.\n",
    "It first reads the number of athletes and the number of attributes from input.\n",
    "Next, it collects the data for each athlete into a list, ensuring all attributes are stored.\n",
    "The program then reads the index of the attribute to sort by, adjusting for zero-based indexing.\n",
    "Using the `sorted()` function, it sorts the data based on the specified attribute while maintaining the original order in case of ties.\n",
    "Finally, it prints the sorted athlete data line by line.\n",
    "'''\n",
    "\n",
    "N, M = list(map(int, input().split()))\n",
    "\n",
    "TabularData = []\n",
    "for i in range(N):\n",
    "    points = list(map(int, input().split()))\n",
    "    TabularData.append(points)\n",
    "\n",
    "K = int(input())\n",
    "\n",
    "SortedList = sorted(TabularData, key=lambda x: x[K])\n",
    "for athlete in SortedList:\n",
    "    print(' '.join(map(str, athlete)))"
   ]
  },
  {
   "cell_type": "markdown",
   "metadata": {},
   "source": [
    "3. ginorts"
   ]
  },
  {
   "cell_type": "code",
   "execution_count": null,
   "metadata": {},
   "outputs": [],
   "source": [
    "'''\n",
    "This program takes a string of mixed characters (letters and digits) as input.\n",
    "It separates the characters into uppercase letters, lowercase letters, and digits.\n",
    "Then, it sorts the lowercase letters, uppercase letters, and splits digits into even and odd numbers.\n",
    "The digits are also sorted with odd digits appearing before even ones.\n",
    "Finally, the program combines the sorted lowercase letters, uppercase letters, and digits, and prints the final sorted string.\n",
    "'''\n",
    "\n",
    "String = input()\n",
    "\n",
    "UpperLetters = \"\"\n",
    "LowerLetters = \"\" \n",
    "Numbers = \"\"\n",
    "\n",
    "for ch in String:\n",
    "    if ch.isalpha():\n",
    "        if ch.isupper():\n",
    "            UpperLetters+=ch\n",
    "        else:\n",
    "            LowerLetters+=ch\n",
    "    else:\n",
    "        Numbers+=ch\n",
    "\n",
    "Even = []\n",
    "Odd = []\n",
    "for num in Numbers:\n",
    "    if int(num)%2==0:\n",
    "        Even.append(int(num))\n",
    "    else:\n",
    "        Odd.append(int(num))\n",
    "\n",
    "Even.sort()\n",
    "Odd.sort()\n",
    "Numbers = Odd+Even\n",
    "sortedNumbers = \"\"\n",
    "\n",
    "for num in Numbers:\n",
    "    sortedNumbers+= str(num)\n",
    "\n",
    "UpperLetters = sorted(UpperLetters)\n",
    "LowerLetters = sorted(LowerLetters)\n",
    "\n",
    "UpperLetters = \"\".join(UpperLetters)\n",
    "LowerLetters = \"\".join(LowerLetters)\n",
    "finalSortedString = LowerLetters+UpperLetters+sortedNumbers\n",
    "print(finalSortedString)"
   ]
  },
  {
   "cell_type": "markdown",
   "metadata": {},
   "source": [
    "### Python Functionals (only 1 - max points: 20)\n",
    "### https://www.hackerrank.com/challenges/map-and-lambda-expression\n"
   ]
  },
  {
   "cell_type": "markdown",
   "metadata": {},
   "source": [
    "1. Map and Lambda Function"
   ]
  },
  {
   "cell_type": "code",
   "execution_count": null,
   "metadata": {},
   "outputs": [],
   "source": [
    "'''\n",
    "This program defines a lambda function to cube a number and a function to generate Fibonacci numbers.\n",
    "The `fibonacci` function returns a list of Fibonacci numbers up to the nth term.\n",
    "The program then takes an integer input and prints the cube of each Fibonacci number using the `map` function.\n",
    "'''\n",
    "\n",
    "# Lambda function to cube a number\n",
    "cube = lambda x: x*x*x\n",
    "\n",
    "def fibonacci(n):\n",
    "    # Return a list of Fibonacci numbers\n",
    "    fibonacciList = []\n",
    "    num1 = 0\n",
    "    num2 = 1\n",
    "\n",
    "    for i in range(n):\n",
    "        fibonacciList.append(num1)\n",
    "        temp = num1\n",
    "        num1 = num2\n",
    "        num2 = temp + num2\n",
    "        \n",
    "    return fibonacciList\n",
    "\n",
    "if __name__ == '__main__':\n",
    "    n = int(input())\n",
    "    print(list(map(cube, fibonacci(n))))"
   ]
  },
  {
   "cell_type": "markdown",
   "metadata": {},
   "source": [
    "### Regex and Parsing challenges (all – total: 17 - max points: 560)\n",
    "### https://www.hackerrank.com/domains/python/py-regex"
   ]
  },
  {
   "cell_type": "markdown",
   "metadata": {},
   "source": [
    "1. Detect Floating Point Number"
   ]
  },
  {
   "cell_type": "code",
   "execution_count": null,
   "metadata": {},
   "outputs": [],
   "source": [
    "'''\n",
    "This program checks whether input strings are valid representations of decimal numbers using regular expressions.\n",
    "It first reads the number of test cases.\n",
    "A regex pattern is defined to match decimal numbers, which may include an optional sign (+ or -) and must contain \n",
    "at least one digit before and one digit after the decimal point.\n",
    "For each test case, it reads a string and checks if it matches the defined pattern.\n",
    "The result is printed as `True` if the string is a valid decimal number, otherwise `False`.\n",
    "'''\n",
    "\n",
    "import re\n",
    "\n",
    "testCases = int(input())\n",
    "\n",
    "pattern = r'^[+-]?\\d*\\.\\d+$'\n",
    "\n",
    "for i in range(testCases):\n",
    "    testString = input()\n",
    "    \n",
    "    if bool((re.match(pattern, testString))):\n",
    "        print(True)\n",
    "    else:\n",
    "        print(False)"
   ]
  },
  {
   "cell_type": "markdown",
   "metadata": {},
   "source": [
    "2. Re.split()"
   ]
  },
  {
   "cell_type": "code",
   "execution_count": null,
   "metadata": {},
   "outputs": [],
   "source": [
    "'''\n",
    "This program splits an input string based on specific delimiters defined by a regular expression pattern.\n",
    "The pattern `r\"[,.]\"` is used to match any occurrence of a comma (,), a period (.), or a closing square bracket (]).\n",
    "The input string is split wherever these characters are found, and the resulting substrings are printed, each on a new line.\n",
    "The `re.split` function is utilized to perform the splitting operation based on the defined pattern.\n",
    "'''\n",
    "\n",
    "regex_pattern = r\"[,.]\"  # Do not delete 'r'.\n",
    "\n",
    "import re\n",
    "print(\"\\n\".join(re.split(regex_pattern, input())))\n"
   ]
  },
  {
   "cell_type": "markdown",
   "metadata": {},
   "source": [
    "3. Group(), Groups(), $ GroupDict()"
   ]
  },
  {
   "cell_type": "code",
   "execution_count": null,
   "metadata": {},
   "outputs": [],
   "source": [
    "'''\n",
    "This program searches for the first occurrence of a repeating character in a given input string.\n",
    "The regular expression pattern `r'([a-zA-Z0-9])\\1'` is used to identify any alphanumeric character that is followed by the same character.\n",
    "If a match is found, the program prints the repeating character; otherwise, it prints -1.\n",
    "The `re.search` function is employed to find the first occurrence of the pattern in the input string.\n",
    "'''\n",
    "\n",
    "import re\n",
    "\n",
    "s = input()\n",
    "\n",
    "pattern = r'([a-zA-Z0-9])\\1'\n",
    "\n",
    "match = re.search(pattern, s)\n",
    "\n",
    "if match:\n",
    "    print(match.group(1))\n",
    "else:\n",
    "    print(-1)\n"
   ]
  },
  {
   "cell_type": "markdown",
   "metadata": {},
   "source": [
    "4. Re.findall() & Re.finditer()"
   ]
  },
  {
   "cell_type": "code",
   "execution_count": null,
   "metadata": {},
   "outputs": [],
   "source": [
    "'''\n",
    "This program finds and prints all substrings of consecutive vowels in a given input string.\n",
    "It uses a regular expression pattern `r'(?<=[QWRTYPSDFGHJKLZXCVBNMqwrtypsdfghjklzxcvbnm])([aeiouAEIOU]{2,})(?=[QWRTYPSDFGHJKLZXCVBNMqwrtypsdfghjklzxcvbnm])'` \n",
    "to identify sequences of two or more vowels that are surrounded by consonants.\n",
    "The `re.findall` function is used to extract all matching substrings from the input string.\n",
    "If there are no matches, the program outputs -1.\n",
    "'''\n",
    "\n",
    "import re\n",
    "\n",
    "def findVowelSubstrings(s):\n",
    "    pattern = r'(?<=[QWRTYPSDFGHJKLZXCVBNMqwrtypsdfghjklzxcvbnm])([aeiouAEIOU]{2,})(?=[QWRTYPSDFGHJKLZXCVBNMqwrtypsdfghjklzxcvbnm])'\n",
    "    \n",
    "    matches = re.findall(pattern, s)\n",
    "    \n",
    "    if matches:\n",
    "        for match in matches:\n",
    "            print(match)\n",
    "    else:\n",
    "        print(-1)\n",
    "\n",
    "inputString = input()\n",
    "findVowelSubstrings(inputString)"
   ]
  },
  {
   "cell_type": "markdown",
   "metadata": {},
   "source": [
    "5. Re.start() & Re.end()"
   ]
  },
  {
   "cell_type": "code",
   "execution_count": null,
   "metadata": {},
   "outputs": [],
   "source": [
    "'''\n",
    "This program identifies and prints the starting and ending indices of all occurrences of a specified substring within a main string.\n",
    "It uses Python's `re.finditer` function to find all matches of the substring using a lookahead pattern `(?=...)`.\n",
    "The `re.escape` function ensures that any special characters in the substring are properly escaped.\n",
    "For each match, it computes the starting and ending indices and stores them in a list of tuples.\n",
    "If no matches are found, the program returns [(-1, -1)] as an indication.\n",
    "'''\n",
    "\n",
    "import re\n",
    "\n",
    "def findSubstringIndices(mainString, subString):\n",
    "    matches = list(re.finditer(f\"(?={re.escape(subString)})\", mainString))\n",
    "    indicesList = []\n",
    "\n",
    "    for match in matches:\n",
    "        startIndex = match.start()\n",
    "        endIndex = startIndex + len(subString) - 1\n",
    "        indicesList.append((startIndex, endIndex))\n",
    "\n",
    "    if not indicesList:\n",
    "        return [(-1, -1)]\n",
    "    return indicesList\n",
    "\n",
    "if __name__ == '__main__': \n",
    "    mainString = input()  \n",
    "    subString = input()  \n",
    "    results = findSubstringIndices(mainString, subString)\n",
    "\n",
    "    for result in results:\n",
    "        print(result)\n"
   ]
  },
  {
   "cell_type": "markdown",
   "metadata": {},
   "source": [
    "6. Regex Substitution"
   ]
  },
  {
   "cell_type": "code",
   "execution_count": null,
   "metadata": {},
   "outputs": [],
   "source": [
    "'''\n",
    "This program replaces the symbols `&&` and `||` with the words \"and\" and \"or\" respectively, but only when these symbols are surrounded by spaces.\n",
    "It uses regular expressions to find the patterns `&&` and `||` within the text and ensures that replacements are only made if the symbols are surrounded by spaces.\n",
    "The `re.sub()` function is used to replace `&&` with \"and\" and `||` with \"or\" while maintaining the integrity of the text.\n",
    "'''\n",
    "\n",
    "import re\n",
    "\n",
    "def replaceSymbols(text):\n",
    "    text = re.sub(r'(?<= )&&(?= )', 'and', text)\n",
    "    text = re.sub(r'(?<= )\\|\\|(?= )', 'or', text)\n",
    "    return text\n",
    "\n",
    "n = int(input())  \n",
    "\n",
    "lines = []\n",
    "for _ in range(n):\n",
    "    currentLine = input()  \n",
    "    lines.append(currentLine)\n",
    "\n",
    "for line in lines:\n",
    "    print(replaceSymbols(line)) \n"
   ]
  },
  {
   "cell_type": "markdown",
   "metadata": {},
   "source": [
    "7. Validating Roman Numerals"
   ]
  },
  {
   "cell_type": "code",
   "execution_count": null,
   "metadata": {},
   "outputs": [],
   "source": [
    "'''\n",
    "This program checks if the input string represents a valid Roman numeral.\n",
    "It uses a regular expression pattern to match the structure of Roman numerals from 1 to 3999.\n",
    "The pattern includes specific rules for thousands (M), hundreds (C, D, M), tens (X, L, C), and ones (I, V, X), with correct handling of subtractive notations like IV, IX, XL, and so on.\n",
    "If the input matches the pattern, it returns `True`, otherwise `False`.\n",
    "'''\n",
    "\n",
    "regex_pattern = r\"^M{0,3}(CM|CD|D?C{0,3})(XC|XL|L?X{0,3})(IX|IV|V?I{0,3})$\"  # Do not delete 'r'.\n",
    "\n",
    "import re\n",
    "print(str(bool(re.match(regex_pattern, input())))) \n"
   ]
  },
  {
   "cell_type": "markdown",
   "metadata": {},
   "source": [
    "8. Validating phone Numbers"
   ]
  },
  {
   "cell_type": "code",
   "execution_count": null,
   "metadata": {},
   "outputs": [],
   "source": [
    "'''\n",
    "This program validates a list of mobile numbers to check if they are valid according to a specific format.\n",
    "The format requires that the number:\n",
    "Starts with either 7, 8, or 9\n",
    "Contains exactly 10 digits\n",
    "The program takes multiple inputs and then checks each number against the regular expression pattern.\n",
    "If the number is valid, it prints \"YES\", otherwise it prints \"NO\".\n",
    "'''\n",
    "\n",
    "import re\n",
    "\n",
    "n = int(input()) \n",
    "mobileNumbers = []\n",
    "for i in range(n):\n",
    "    currentNumber = input()    \n",
    "    mobileNumbers.append(currentNumber)\n",
    "\n",
    "pattern = r\"^[789]\\d{9}$\"\n",
    "\n",
    "for mobileNumber in mobileNumbers:\n",
    "    if re.match(pattern, mobileNumber):\n",
    "        print(\"YES\")\n",
    "    else:\n",
    "        print(\"NO\")"
   ]
  },
  {
   "cell_type": "markdown",
   "metadata": {},
   "source": [
    "9. Validating and Parsing Email Addresses"
   ]
  },
  {
   "cell_type": "code",
   "execution_count": null,
   "metadata": {},
   "outputs": [],
   "source": [
    "\n",
    "'''\n",
    "This program validates email addresses based on a specific pattern.\n",
    "First, it defines a regular expression pattern that checks for valid email formats.\n",
    "The program then takes an integer input representing the number of email addresses to validate.\n",
    "For each input, it parses the name and email address using the email.utils module.\n",
    "If the email address matches the defined pattern, it prints the formatted name and email address.\n",
    "'''\n",
    "\n",
    "import re\n",
    "import email.utils\n",
    "\n",
    "Pattern = r'^[a-zA-Z][\\w.-]*@[a-zA-Z]+\\.[a-zA-Z]{1,3}$'\n",
    "\n",
    "n = int(input())\n",
    "\n",
    "for i in range(n):\n",
    "    nameAndEmail = input().strip()\n",
    "    name, emailAddress = email.utils.parseaddr(nameAndEmail)\n",
    "    if re.match(Pattern, emailAddress):\n",
    "        print(email.utils.formataddr((name, emailAddress))) \n"
   ]
  },
  {
   "cell_type": "markdown",
   "metadata": {},
   "source": [
    "10. HTML Parser - Part 1"
   ]
  },
  {
   "cell_type": "code",
   "execution_count": null,
   "metadata": {},
   "outputs": [],
   "source": [
    "from html.parser import HTMLParser\n",
    "\n",
    "'''\n",
    "This program defines a custom HTML parser using the HTMLParser class.\n",
    "It overrides methods to handle the parsing of start tags, end tags, and self-closing tags in HTML.\n",
    "For each tag, the program prints the tag name and any attributes it contains.\n",
    "The input consists of a number of HTML lines, which are processed by the custom parser.\n",
    "'''\n",
    "\n",
    "class MyHTMLParser(HTMLParser):\n",
    "    def handle_starttag(self, tag, attrs):\n",
    "        print(f\"Start : {tag}\")\n",
    "        for attr in attrs:\n",
    "            attrName, attrValue = attr\n",
    "            print(f\"-> {attrName} > {attrValue if attrValue else 'None'}\")\n",
    "\n",
    "    def handle_endtag(self, tag):\n",
    "        print(f\"End   : {tag}\")\n",
    "\n",
    "    def handle_startendtag(self, tag, attrs):\n",
    "        print(f\"Empty : {tag}\")\n",
    "        for attr in attrs:\n",
    "            attrName, attrValue = attr\n",
    "            print(f\"-> {attrName} > {attrValue if attrValue else 'None'}\")\n",
    "\n",
    "n = int(input())\n",
    "\n",
    "htmlLines = []\n",
    "for i in range(n):\n",
    "    htmlLine = input()\n",
    "    htmlLines.append(htmlLine)\n",
    "\n",
    "parser = MyHTMLParser()\n",
    "\n",
    "for line in htmlLines:\n",
    "    parser.feed(line)"
   ]
  },
  {
   "cell_type": "markdown",
   "metadata": {},
   "source": [
    "11. HTML Parser - Part 2"
   ]
  },
  {
   "cell_type": "code",
   "execution_count": null,
   "metadata": {},
   "outputs": [],
   "source": [
    "from html.parser import HTMLParser\n",
    "\n",
    "'''\n",
    "This program defines a custom HTML parser that processes HTML comments and data.\n",
    "It extends the HTMLParser class and overrides methods to handle comments and textual data within the HTML.\n",
    "For each comment, it checks if it's a single-line or multi-line comment and prints the appropriate message.\n",
    "For any non-empty data, it prints \">>> Data\" followed by the data itself.\n",
    "The input consists of multiple lines of HTML, which are fed into the parser.\n",
    "'''\n",
    "\n",
    "class MyHTMLParser(HTMLParser):\n",
    "    def handle_comment(self, data):\n",
    "        if '\\n' in data:\n",
    "            print(\">>> Multi-line Comment\")\n",
    "        else:\n",
    "            print(\">>> Single-line Comment\")\n",
    "        print(data.strip())  \n",
    "        \n",
    "    def handle_data(self, data):\n",
    "        if data.strip():\n",
    "            print(\">>> Data\")\n",
    "            print(data)  \n",
    "\n",
    "html = \"\"       \n",
    "for i in range(int(input())):\n",
    "    html += input().rstrip()\n",
    "    html += '\\n'\n",
    "\n",
    "parser = MyHTMLParser()\n",
    "parser.feed(html)"
   ]
  },
  {
   "cell_type": "markdown",
   "metadata": {},
   "source": [
    "12. Detect HTML Tags, Attributes and Attribute Values"
   ]
  },
  {
   "cell_type": "code",
   "execution_count": null,
   "metadata": {},
   "outputs": [],
   "source": [
    "from html.parser import HTMLParser\n",
    "\n",
    "'''\n",
    "This program defines a custom HTML parser that extracts and prints information from HTML input.\n",
    "It extends the HTMLParser class and overrides methods to handle start tags, end tags, and start-end tags.\n",
    "For each start tag and start-end tag, it prints the tag name and its attributes.\n",
    "The program reads multiple lines of HTML input, concatenates them into a single string, and feeds that string to the parser for processing.\n",
    "Comments are not processed or printed in this implementation.\n",
    "'''\n",
    "\n",
    "class MyHTMLParser(HTMLParser):\n",
    "    def handle_starttag(self, tag, attrs):\n",
    "        print(tag)\n",
    "        for attr in attrs:\n",
    "            print(f\"-> {attr[0]} > {attr[1]}\")\n",
    "    \n",
    "    def handle_endtag(self, tag):\n",
    "        pass\n",
    "    \n",
    "    def handle_startendtag(self, tag, attrs):\n",
    "        print(tag)\n",
    "        for attr in attrs:\n",
    "            print(f\"-> {attr[0]} > {attr[1]}\")\n",
    "    \n",
    "    def handle_comment(self, data):\n",
    "        pass\n",
    "\n",
    "html = \"\"       \n",
    "for i in range(int(input())):\n",
    "    html += input().rstrip() + '\\n'\n",
    "\n",
    "parser = MyHTMLParser()\n",
    "parser.feed(html)\n",
    "parser.close()\n"
   ]
  },
  {
   "cell_type": "markdown",
   "metadata": {},
   "source": [
    "13. Validating UID"
   ]
  },
  {
   "cell_type": "code",
   "execution_count": null,
   "metadata": {},
   "outputs": [],
   "source": [
    "import re\n",
    "\n",
    "'''\n",
    "This program validates a series of unique identification numbers (UIDs) based on specified criteria using regular expressions.\n",
    "The UID must be exactly 10 characters long and meet the following conditions:\n",
    "1. It must contain at least two uppercase letters.\n",
    "2. It must contain at least three digits.\n",
    "3. It must not contain any repeating characters.\n",
    "The program reads the number of test cases and checks each UID against the defined pattern, printing \"Valid\" or \"Invalid\" accordingly.\n",
    "'''\n",
    "\n",
    "pattern = r'^(?=(?:[^A-Z]*[A-Z]){2})(?=(?:[^0-9]*[0-9]){3})(?!.*(.).*\\1)[A-Za-z0-9]{10}$'\n",
    "\n",
    "T = int(input())\n",
    "\n",
    "for _ in range(T):\n",
    "    uid = input()\n",
    "    \n",
    "    if re.match(pattern, uid):\n",
    "        print(\"Valid\")\n",
    "    else:\n",
    "        print(\"Invalid\")"
   ]
  },
  {
   "cell_type": "markdown",
   "metadata": {},
   "source": [
    "14. Validating Credit Card Numbers"
   ]
  },
  {
   "cell_type": "code",
   "execution_count": null,
   "metadata": {},
   "outputs": [],
   "source": [
    "import re\n",
    "\n",
    "'''\n",
    "This program validates a series of credit card numbers based on specific formatting rules using regular expressions.\n",
    "The card number must satisfy the following conditions:\n",
    "1. It must start with 4, 5, or 6.\n",
    "2. It must be exactly 16 digits long, either entered continuously or split into 4 groups separated by hyphens.\n",
    "3. It should not contain more than 3 consecutive repeated digits.\n",
    "The program reads the number of test cases and checks each credit card number against the defined pattern, printing \"Valid\" or \"Invalid\" accordingly.\n",
    "'''\n",
    "\n",
    "pattern = r\"^(?!.*(\\d)(-?\\1){3})[456]\\d{3}(-?\\d{4}){3}$\"\n",
    "\n",
    "T = int(input())\n",
    "\n",
    "for i in range(T):\n",
    "    cardNo = input()\n",
    "    \n",
    "    if re.match(pattern, cardNo):\n",
    "        print(\"Valid\")\n",
    "    else:\n",
    "        print(\"Invalid\")"
   ]
  },
  {
   "cell_type": "markdown",
   "metadata": {},
   "source": [
    "15. Validating Postal Codes"
   ]
  },
  {
   "cell_type": "code",
   "execution_count": null,
   "metadata": {},
   "outputs": [],
   "source": [
    "'''\n",
    "This script validates a postal code according to two main criteria:\n",
    "1. The postal code must be a six-digit number in the range from 100000 to 999999 inclusive.\n",
    "2. The postal code must not contain more than one alternating repetitive digit pair.\n",
    "   An alternating repetitive digit pair consists of two equal digits separated by one digit (e.g., in \"121426\", the digit '1' is an alternating repetitive digit).\n",
    "\n",
    "The script uses regular expressions to check these conditions and prints True or False based on the validity of the postal code.\n",
    "'''\n",
    "\n",
    "\n",
    "regex_integer_in_range = r\"^[1-9]\\d{5}$\"\t# Do not delete 'r'.\n",
    "regex_alternating_repetitive_digit_pair = r\"(\\d)(?=\\d\\1)\"\t# Do not delete 'r'.\n",
    "\n",
    "\n",
    "import re\n",
    "P = input()\n",
    "\n",
    "print (bool(re.match(regex_integer_in_range, P)) \n",
    "and len(re.findall(regex_alternating_repetitive_digit_pair, P)) < 2)"
   ]
  },
  {
   "cell_type": "markdown",
   "metadata": {},
   "source": [
    "16. Matrix Script"
   ]
  },
  {
   "cell_type": "code",
   "execution_count": null,
   "metadata": {},
   "outputs": [],
   "source": [
    "'''\n",
    "This script decodes a matrix script by reading characters column-wise from a given grid of strings.\n",
    "The first input specifies the number of rows (n) and columns (m) of the matrix.\n",
    "The script then constructs a message by concatenating the characters from each column from top to bottom.\n",
    "Any non-alphanumeric characters between alphanumeric characters in the decoded message are replaced with a single space for better readability.\n",
    "Finally, the decoded message is printed.\n",
    "'''\n",
    "\n",
    "import re\n",
    "first_multiple_input = input().rstrip().split()\n",
    "\n",
    "n = int(first_multiple_input[0])\n",
    "\n",
    "m = int(first_multiple_input[1])\n",
    "\n",
    "matrix = []\n",
    "\n",
    "for _ in range(n):\n",
    "    matrix_item = input()\n",
    "    matrix.append(matrix_item)\n",
    "\n",
    "pattern = r\"(?<=\\w)[^A-Za-z0-9]+(?=\\w)\"\n",
    "\n",
    "message = \"\"\n",
    "\n",
    "for col in range(m):\n",
    "    for row in range(n):\n",
    "        message+=matrix[row][col]\n",
    "\n",
    "decodedMessage = re.sub(pattern, ' ', message)\n",
    "print(decodedMessage)"
   ]
  },
  {
   "cell_type": "markdown",
   "metadata": {},
   "source": [
    "### XML (all – total: 2 - max points: 40)\n",
    "### https://www.hackerrank.com/domains/python/xml\n"
   ]
  },
  {
   "cell_type": "markdown",
   "metadata": {},
   "source": [
    "1. XML 1 - Find the Score"
   ]
  },
  {
   "cell_type": "code",
   "execution_count": null,
   "metadata": {},
   "outputs": [],
   "source": [
    "'''\n",
    "This script reads an XML input and calculates the total number of attributes present in the XML elements.\n",
    "It utilizes the xml.etree.ElementTree module to parse the XML data.\n",
    "The function get_attr_number recursively counts the attributes for each element in the XML structure.\n",
    "Finally, it prints the total count of attributes to the standard output.\n",
    "'''\n",
    "\n",
    "import sys\n",
    "import xml.etree.ElementTree as etree\n",
    "\n",
    "def get_attr_number(node):\n",
    "    score = 0\n",
    "    stack = [node]\n",
    "\n",
    "    while stack:\n",
    "        currentNode = stack.pop()\n",
    "        score += len(currentNode.attrib)\n",
    "        stack.extend(currentNode)\n",
    "    \n",
    "    return score \n",
    "\n",
    "if __name__ == '__main__':\n",
    "    sys.stdin.readline()\n",
    "    xml = sys.stdin.read()\n",
    "    tree = etree.ElementTree(etree.fromstring(xml))\n",
    "    root = tree.getroot()\n",
    "    print(get_attr_number(root))"
   ]
  },
  {
   "cell_type": "markdown",
   "metadata": {},
   "source": [
    "2. XML2 - Find the Maximum Depth"
   ]
  },
  {
   "cell_type": "code",
   "execution_count": null,
   "metadata": {},
   "outputs": [],
   "source": [
    "'''\n",
    "This script reads an XML input and calculates the maximum depth of the XML tree.\n",
    "It utilizes the xml.etree.ElementTree module to parse the XML data.\n",
    "The function depth recursively traverses the XML structure, keeping track of the current depth.\n",
    "The maximum depth is stored in the global variable maxdepth and printed at the end.\n",
    "'''\n",
    "\n",
    "import xml.etree.ElementTree as etree\n",
    "\n",
    "maxdepth = 0\n",
    "\n",
    "def depth(elem, level):\n",
    "    global maxdepth\n",
    "    # your code goes here\n",
    "    stack = [(elem, 0)] \n",
    "    while stack:\n",
    "        current_elem, level = stack.pop()\n",
    "        if level > maxdepth:\n",
    "            maxdepth = level\n",
    "        for child in current_elem:\n",
    "            stack.append((child, level + 1))\n",
    "\n",
    "if __name__ == '__main__':\n",
    "    n = int(input())\n",
    "    xml = \"\"\n",
    "    for i in range(n):\n",
    "        xml =  xml + input() + \"\\n\"\n",
    "    tree = etree.ElementTree(etree.fromstring(xml))\n",
    "    depth(tree.getroot(), -1)\n",
    "    print(maxdepth)"
   ]
  },
  {
   "cell_type": "markdown",
   "metadata": {},
   "source": [
    "### Closures and Decorations (all – total: 2 - max points: 60)\n",
    "### https://www.hackerrank.com/domains/python/closures-and-decorators"
   ]
  },
  {
   "cell_type": "markdown",
   "metadata": {},
   "source": [
    "1. Standardize Mobile Number Using Decorators"
   ]
  },
  {
   "cell_type": "code",
   "execution_count": null,
   "metadata": {},
   "outputs": [],
   "source": [
    "'''\n",
    "This script defines a phone number formatting function using a decorator.\n",
    "The wrapper function modifies the behavior of the sort_phone function by formatting\n",
    "the input phone numbers into a standardized format before sorting.\n",
    "The standardized format is +91 followed by the first five digits and the last digits of the number.\n",
    "The script reads multiple phone numbers from input and prints them in the sorted order.\n",
    "'''\n",
    "\n",
    "def wrapper(f):\n",
    "    def fun(l):\n",
    "        # complete the function\n",
    "        formattedNumbers = []\n",
    "        for number in l:\n",
    "            if number.startswith('+91'):\n",
    "                number = number[3:]\n",
    "            elif number.startswith('91'):\n",
    "                number = number[2:] \n",
    "            elif number.startswith('0'):\n",
    "                number = number[1:] \n",
    "            formattedNumbers.append(f\"+91 {number[:5]} {number[5:]}\")\n",
    "        return f(sorted(formattedNumbers))\n",
    "    return fun\n",
    "\n",
    "@wrapper\n",
    "def sort_phone(l):\n",
    "    print(*sorted(l), sep='\\n')\n",
    "\n",
    "if __name__ == '__main__':\n",
    "    l = [input() for _ in range(int(input()))]\n",
    "    sort_phone(l)"
   ]
  },
  {
   "cell_type": "markdown",
   "metadata": {},
   "source": [
    "2. Decorators 2 - Name Directory"
   ]
  },
  {
   "cell_type": "code",
   "execution_count": null,
   "metadata": {},
   "outputs": [],
   "source": [
    "'''\n",
    "This script defines a decorator function `person_lister` that sorts a list of people\n",
    "based on their age (the third item in each person's list) before formatting their names.\n",
    "The `name_format` function formats names with a title based on gender and returns the full name.\n",
    "The script reads multiple people's data from input, processes it, and prints the formatted names.\n",
    "'''\n",
    "\n",
    "import operator\n",
    "\n",
    "def person_lister(f):\n",
    "    def inner(people):\n",
    "        # complete the function\n",
    "        people.sort(key=operator.itemgetter(2)) \n",
    "        return [f(person) for person in people]\n",
    "        \n",
    "    return inner\n",
    "\n",
    "@person_lister\n",
    "def name_format(person):\n",
    "    return (\"Mr. \" if person[3] == \"M\" else \"Ms. \") + person[0] + \" \" + person[1]\n",
    "\n",
    "if __name__ == '__main__':\n",
    "    people = [input().split() for i in range(int(input()))]\n",
    "    print(*name_format(people), sep='\\n')"
   ]
  },
  {
   "cell_type": "markdown",
   "metadata": {},
   "source": [
    "### Numpy (all – total: 15 - max points: 300)\n",
    "### https://www.hackerrank.com/domains/python/numpy\n"
   ]
  },
  {
   "cell_type": "markdown",
   "metadata": {},
   "source": [
    "1. Arrays"
   ]
  },
  {
   "cell_type": "code",
   "execution_count": null,
   "metadata": {},
   "outputs": [],
   "source": [
    "'''\n",
    "This script defines a function `arrays` that takes a list of numbers as strings, converts it\n",
    "into a NumPy array of floats, and returns the array in reverse order. The script reads a \n",
    "space-separated input of numbers, processes it using the `arrays` function, and prints \n",
    "the reversed NumPy array.\n",
    "'''\n",
    "\n",
    "import numpy\n",
    "\n",
    "def arrays(arr):\n",
    "    # complete this function\n",
    "    # use numpy.array\n",
    "    reverseArr = numpy.array(arr, float)\n",
    "    \n",
    "    return numpy.flip(reverseArr)\n",
    "\n",
    "arr = input().strip().split(' ')\n",
    "result = arrays(arr)\n",
    "print(result)"
   ]
  },
  {
   "cell_type": "markdown",
   "metadata": {},
   "source": [
    "2. Shape and Reshape "
   ]
  },
  {
   "cell_type": "code",
   "execution_count": null,
   "metadata": {},
   "outputs": [],
   "source": [
    "'''\n",
    "This script takes a list of integers from the user input, reshapes it into a 3x3 NumPy array, \n",
    "and then prints the reshaped array. It utilizes NumPy's reshape function to convert a flat \n",
    "list into a two-dimensional array.\n",
    "'''\n",
    "\n",
    "import numpy\n",
    "\n",
    "Arr = list(map(int, input().split()))\n",
    "\n",
    "ReshapedArray = numpy.reshape(Arr, (3, 3))\n",
    "\n",
    "print(ReshapedArray)\n"
   ]
  },
  {
   "cell_type": "markdown",
   "metadata": {},
   "source": [
    "3. Transpose and Flatten"
   ]
  },
  {
   "cell_type": "code",
   "execution_count": null,
   "metadata": {},
   "outputs": [],
   "source": [
    "'''\n",
    "This script reads dimensions N and M for a matrix from user input, then constructs the \n",
    "matrix using subsequent user inputs. It utilizes NumPy to create an array from the \n",
    "matrix, and finally prints the transpose of the matrix and the flattened version of the \n",
    "NumPy array.\n",
    "'''\n",
    "\n",
    "import numpy\n",
    "\n",
    "N, M = list(map(int, input().split()))\n",
    "\n",
    "matrix = []\n",
    "for _ in range(N):\n",
    "    row = list(map(int, input().split()))\n",
    "    matrix.append(row)\n",
    "\n",
    "NP_Matrix = numpy.array(matrix)\n",
    "\n",
    "print(numpy.transpose(matrix))\n",
    "print(NP_Matrix.flatten())"
   ]
  },
  {
   "cell_type": "markdown",
   "metadata": {},
   "source": [
    "4. Concatenate"
   ]
  },
  {
   "cell_type": "code",
   "execution_count": null,
   "metadata": {},
   "outputs": [],
   "source": [
    "'''\n",
    "This script reads the dimensions N, M, and P from user input, which represent the \n",
    "number of rows for two matrices. It then constructs two matrices (arrayN and arrayM) \n",
    "from user input, converts them to NumPy arrays, and concatenates them along the \n",
    "vertical axis (axis=0). Finally, it prints the resulting concatenated array.\n",
    "'''\n",
    "\n",
    "import numpy\n",
    "\n",
    "N, M, P = map(int, input().split())\n",
    "\n",
    "arrayN = []\n",
    "arrayM = []\n",
    "\n",
    "for _ in range(N):\n",
    "    row = list(map(int, input().split()))\n",
    "    arrayN.append(row)\n",
    "\n",
    "for _ in range(M):\n",
    "    row = list(map(int, input().split()))\n",
    "    arrayM.append(row)\n",
    "\n",
    "arrayN = numpy.array(arrayN)\n",
    "arrayM = numpy.array(arrayM)\n",
    "\n",
    "finalArray = numpy.concatenate((arrayN, arrayM), axis=0)\n",
    "\n",
    "print(finalArray)\n"
   ]
  },
  {
   "cell_type": "markdown",
   "metadata": {},
   "source": [
    "5. Zeros and Ones"
   ]
  },
  {
   "cell_type": "code",
   "execution_count": null,
   "metadata": {},
   "outputs": [],
   "source": [
    "'''\n",
    "This script takes a size as input, which defines the dimensions of two NumPy arrays. \n",
    "It then creates a NumPy array of zeros (ZEROS) and a NumPy array of ones (ONES) \n",
    "with the specified size and prints both arrays.\n",
    "'''\n",
    "\n",
    "import numpy\n",
    "\n",
    "size = list(map(int, input().split()))\n",
    "\n",
    "ZEROS = numpy.zeros((size), dtype=int) \n",
    "ONES = numpy.ones((size), dtype=int) \n",
    "print(ZEROS)\n",
    "print(ONES)"
   ]
  },
  {
   "cell_type": "markdown",
   "metadata": {},
   "source": [
    "6. Eye and Identity"
   ]
  },
  {
   "cell_type": "code",
   "execution_count": null,
   "metadata": {},
   "outputs": [],
   "source": [
    "'''\n",
    "This script creates an identity matrix using NumPy's eye function. \n",
    "It sets the print options to a legacy format for compatibility \n",
    "with earlier versions of NumPy. The dimensions of the matrix \n",
    "are specified by user input for N (rows) and M (columns).\n",
    "'''\n",
    "\n",
    "import numpy\n",
    "\n",
    "numpy.set_printoptions(legacy='1.13')\n",
    "\n",
    "N, M = list(map(int, input().split()))\n",
    "\n",
    "Diagonal = numpy.eye(N, M)\n",
    "print(Diagonal)"
   ]
  },
  {
   "cell_type": "markdown",
   "metadata": {},
   "source": [
    "7. Array Mathematics"
   ]
  },
  {
   "cell_type": "code",
   "execution_count": null,
   "metadata": {},
   "outputs": [],
   "source": [
    "'''\n",
    "This script performs element-wise operations on two matrices using NumPy.\n",
    "It reads the dimensions of the matrices and their elements from user input,\n",
    "then computes the sum, difference, product, floor division, modulus,\n",
    "and power of the two matrices. The results are printed to the console.\n",
    "'''\n",
    "\n",
    "import numpy\n",
    "\n",
    "N, M = map(int, input().split())\n",
    "\n",
    "arrayA = []\n",
    "arrayB = []\n",
    "\n",
    "for _ in range(N):\n",
    "    row = list(map(int, input().split()))\n",
    "    arrayA.append(row)\n",
    "\n",
    "for _ in range(N):\n",
    "    row = list(map(int, input().split()))\n",
    "    arrayB.append(row)\n",
    "   \n",
    "arrayA = numpy.array(arrayA, int)\n",
    "arrayB = numpy.array(arrayB, int)    \n",
    "\n",
    "print(numpy.add(arrayA, arrayB))\n",
    "print(numpy.subtract(arrayA, arrayB))\n",
    "print(numpy.multiply(arrayA, arrayB))\n",
    "print(numpy.floor_divide(arrayA, arrayB))\n",
    "print(numpy.mod(arrayA, arrayB))\n",
    "print(numpy.power(arrayA, arrayB))"
   ]
  },
  {
   "cell_type": "markdown",
   "metadata": {},
   "source": [
    "8. Floor, Ceil and Rint"
   ]
  },
  {
   "cell_type": "code",
   "execution_count": null,
   "metadata": {},
   "outputs": [],
   "source": [
    "'''\n",
    "This script takes a list of floating-point numbers as input and converts it into a NumPy array.\n",
    "It then computes and prints the floor, ceiling, and rounded values of the elements in the array.\n",
    "The legacy print options are set to ensure compatibility with older versions of NumPy.\n",
    "'''\n",
    "\n",
    "import numpy\n",
    "\n",
    "numpy.set_printoptions(legacy=\"1.13\")\n",
    "\n",
    "A = list(map(float, input().split()))\n",
    "\n",
    "ArrayA = numpy.array(A, float)\n",
    "print(numpy.floor(ArrayA))\n",
    "print(numpy.ceil(ArrayA))\n",
    "print(numpy.rint(ArrayA))\n"
   ]
  },
  {
   "cell_type": "markdown",
   "metadata": {},
   "source": [
    "9. Sum and Prod"
   ]
  },
  {
   "cell_type": "code",
   "execution_count": null,
   "metadata": {},
   "outputs": [],
   "source": [
    "'''\n",
    "This script reads dimensions for a matrix from user input and constructs a NumPy array\n",
    "from a series of integer arrays. It then computes the sum of the elements along the \n",
    "first axis (columns) and prints the product of those sums.\n",
    "'''\n",
    "\n",
    "import numpy\n",
    "\n",
    "N, M = list(map(int, input().split()))\n",
    "\n",
    "listOfArrays = []\n",
    "for _ in range(N):\n",
    "    arr = list(map(int, input().split()))\n",
    "    listOfArrays.append(arr)\n",
    "\n",
    "NP_Arr = numpy.array(listOfArrays, int)\n",
    "\n",
    "SUM = numpy.sum(NP_Arr, axis=0)          \n",
    "print(numpy.prod(SUM))"
   ]
  },
  {
   "cell_type": "markdown",
   "metadata": {},
   "source": [
    "10. Min and Max"
   ]
  },
  {
   "cell_type": "code",
   "execution_count": null,
   "metadata": {},
   "outputs": [],
   "source": [
    "'''\n",
    "This script reads dimensions for a matrix from user input and constructs a NumPy array\n",
    "from a series of integer arrays. It then computes the minimum value in each row and \n",
    "prints the maximum of those minimum values.\n",
    "'''\n",
    "\n",
    "import numpy\n",
    "\n",
    "N, M = list(map(int, input().split()))\n",
    "\n",
    "listOfArrays = []\n",
    "for _ in range(N):\n",
    "    arr = list(map(int, input().split()))\n",
    "    listOfArrays.append(arr)\n",
    "\n",
    "NP_Arr = numpy.array(listOfArrays, int)\n",
    "\n",
    "minArr = numpy.min(NP_Arr, axis=1)          \n",
    "print(numpy.max(minArr))"
   ]
  },
  {
   "cell_type": "markdown",
   "metadata": {},
   "source": [
    "11. Mean, Var, and Std"
   ]
  },
  {
   "cell_type": "code",
   "execution_count": null,
   "metadata": {},
   "outputs": [],
   "source": [
    "'''\n",
    "This script processes a matrix using NumPy, computing statistical measures: \n",
    "mean for each row, variance for each column, and the overall standard deviation.\n",
    "If the standard deviation is exactly zero, it prints \"0.0\"; otherwise, it \n",
    "prints the standard deviation with a precision of 11 decimal places.\n",
    "'''\n",
    "\n",
    "import numpy\n",
    "\n",
    "N, M = list(map(int, input().split()))\n",
    "\n",
    "listOfArrays = []\n",
    "for _ in range(N):\n",
    "    arr = list(map(int, input().split()))\n",
    "    listOfArrays.append(arr)\n",
    "\n",
    "NP_Arr = numpy.array(listOfArrays, int)\n",
    "\n",
    "MEAN = numpy.mean(NP_Arr, axis=1) \n",
    "VAR  = numpy.var(NP_Arr, axis=0)\n",
    "STD  = numpy.std(NP_Arr, axis=None)\n",
    "\n",
    "print(MEAN)\n",
    "print(VAR)\n",
    "\n",
    "if STD == 0.0:\n",
    "    print(\"0.0\")\n",
    "else:\n",
    "    print(f\"{STD:.11f}\")"
   ]
  },
  {
   "cell_type": "markdown",
   "metadata": {},
   "source": [
    "12. Dot and Cross"
   ]
  },
  {
   "cell_type": "code",
   "execution_count": null,
   "metadata": {},
   "outputs": [],
   "source": [
    "'''\n",
    "This script computes the dot product of two square matrices using NumPy.\n",
    "The user provides the size of the matrices (N) and then inputs the elements\n",
    "of both matrices A and B. The matrices are converted to NumPy arrays, and\n",
    "the dot product of A and B is calculated and printed.\n",
    "'''\n",
    "\n",
    "import numpy\n",
    "\n",
    "N = int(input())\n",
    "\n",
    "A = []\n",
    "B = []\n",
    "\n",
    "for _ in range(N):\n",
    "    values = list(map(int, input().split()))\n",
    "    A.append(values) \n",
    "\n",
    "for _ in range(N):\n",
    "    values = list(map(int, input().split()))\n",
    "    B.append(values) \n",
    "   \n",
    "A = numpy.array(A, int)\n",
    "B = numpy.array(B, int)\n",
    "\n",
    "print(numpy.dot(A, B))"
   ]
  },
  {
   "cell_type": "markdown",
   "metadata": {},
   "source": [
    "13. Inner and Outer"
   ]
  },
  {
   "cell_type": "code",
   "execution_count": null,
   "metadata": {},
   "outputs": [],
   "source": [
    "'''\n",
    "This program reads two lists of integers from input, converts them into NumPy arrays, \n",
    "and then calculates and prints the inner product and outer product of the two arrays.\n",
    "'''\n",
    "import numpy\n",
    "\n",
    "A = list(map(int, input().split()))\n",
    "B = list(map(int, input().split()))\n",
    "\n",
    "A = numpy.array(A, int)\n",
    "B = numpy.array(B, int)\n",
    "\n",
    "print(numpy.inner(A, B))\n",
    "print(numpy.outer(A, B))\n"
   ]
  },
  {
   "cell_type": "markdown",
   "metadata": {},
   "source": [
    "14. Polynomials"
   ]
  },
  {
   "cell_type": "code",
   "execution_count": null,
   "metadata": {},
   "outputs": [],
   "source": [
    "'''\n",
    "This program takes a polynomial represented by its coefficients as input,\n",
    "evaluates it at a specific point, and prints the result.\n",
    "The coefficients are provided in descending order of power.\n",
    "'''\n",
    "\n",
    "import numpy\n",
    "\n",
    "PolyFunction = list(map(float, input().split()))\n",
    "\n",
    "pointX = float(input())\n",
    "\n",
    "PolyFunction = numpy.array(PolyFunction, float)\n",
    "\n",
    "print(numpy.polyval(PolyFunction, pointX))\n"
   ]
  },
  {
   "cell_type": "markdown",
   "metadata": {},
   "source": [
    "15. Linear Algebra"
   ]
  },
  {
   "cell_type": "code",
   "execution_count": null,
   "metadata": {},
   "outputs": [],
   "source": [
    "import numpy\n",
    "\n",
    "'''\n",
    "This program calculates the determinant of a square matrix.\n",
    "It takes the size of the matrix as input and then the matrix elements.\n",
    "If the determinant is non-zero, it prints the determinant formatted to two decimal places.\n",
    "If the determinant is zero, it simply prints the determinant.\n",
    "'''\n",
    "\n",
    "N = int(input())\n",
    "\n",
    "Matrix = []\n",
    "\n",
    "for _ in range(N):\n",
    "    arr = list(map(float, input().split()))\n",
    "    Matrix.append(arr)\n",
    "\n",
    "Matrix = numpy.array(Matrix, float) \n",
    "\n",
    "Determinant = numpy.linalg.det(Matrix)\n",
    "\n",
    "if Determinant != 0: \n",
    "    print(f\"{Determinant:.2f}\")\n",
    "else:\n",
    "    print(Determinant)"
   ]
  },
  {
   "cell_type": "markdown",
   "metadata": {},
   "source": [
    "## Problem 2:"
   ]
  },
  {
   "cell_type": "markdown",
   "metadata": {},
   "source": [
    "### 1. Birthday Cake Candles\n",
    "### https://www.hackerrank.com/challenges/birthday-cake-candles"
   ]
  },
  {
   "cell_type": "code",
   "execution_count": 16,
   "metadata": {},
   "outputs": [
    {
     "name": "stdout",
     "output_type": "stream",
     "text": [
      "\n"
     ]
    }
   ],
   "source": [
    "#!/bin/python3\n",
    "\n",
    "import math\n",
    "import os\n",
    "import random\n",
    "import re\n",
    "import sys\n",
    "\n",
    "'''\n",
    "This program defines a function to count the number of tallest birthday candles.\n",
    "The function 'birthdayCakeCandles' takes an array of integers representing candle heights.\n",
    "It returns the count of candles that have the maximum height.\n",
    "'''\n",
    "\n",
    "#\n",
    "# Complete the 'birthdayCakeCandles' function below.\n",
    "#\n",
    "# The function is expected to return an INTEGER.\n",
    "# The function accepts INTEGER_ARRAY candles as parameter.\n",
    "#\n",
    "\n",
    "def birthdayCakeCandles(candles):\n",
    "    \n",
    "    tallest = candles[0]\n",
    "    \n",
    "    for candle in candles:\n",
    "        if candle> tallest:\n",
    "            tallest = candle\n",
    "    \n",
    "    totalNumberOfTallestCandles = 0\n",
    "    for candle in candles:\n",
    "        if tallest==candle:\n",
    "            totalNumberOfTallestCandles+=1\n",
    "    \n",
    "    return totalNumberOfTallestCandles\n",
    "    \n",
    "\n",
    "if __name__ == '__main__':\n",
    "    fptr = open(os.environ['OUTPUT_PATH'], 'w')\n",
    "\n",
    "    candles_count = int(input().strip())\n",
    "\n",
    "    candles = list(map(int, input().rstrip().split()))\n",
    "\n",
    "    result = birthdayCakeCandles(candles)\n",
    "\n",
    "    fptr.write(str(result) + '\\n')\n",
    "\n",
    "    fptr.close()"
   ]
  },
  {
   "cell_type": "markdown",
   "metadata": {},
   "source": [
    "### 2. Number Line Jumps\n",
    "### https://www.hackerrank.com/challenges/kangaroo\n"
   ]
  },
  {
   "cell_type": "code",
   "execution_count": null,
   "metadata": {},
   "outputs": [],
   "source": [
    "#!/bin/python3\n",
    "\n",
    "import math\n",
    "import os\n",
    "import random\n",
    "import re\n",
    "import sys\n",
    "\n",
    "#\n",
    "# Complete the 'kangaroo' function below.\n",
    "#\n",
    "# The function is expected to return a STRING.\n",
    "# The function accepts following parameters:\n",
    "#  1. INTEGER x1\n",
    "#  2. INTEGER v1\n",
    "#  3. INTEGER x2\n",
    "#  4. INTEGER v2\n",
    "#\n",
    "def kangaroo(x1, v1, x2, v2):\n",
    "    location1 = x1 + v1\n",
    "    location2 = x2 + v2\n",
    "    meet = \"NO\"  \n",
    "    \n",
    "    if x1 == x2:\n",
    "        if location1 == location2:\n",
    "            meet = \"YES\"\n",
    "    elif x1 < x2:\n",
    "        while x1 < x2:\n",
    "            x1 += v1\n",
    "            x2 += v2\n",
    "            if x1 == x2:\n",
    "                meet = \"YES\"\n",
    "                break\n",
    "    elif x2 < x1:\n",
    "        while x2 < x1:\n",
    "            x1 += v1\n",
    "            x2 += v2\n",
    "            if x1 == x2:\n",
    "                meet = \"YES\"\n",
    "                break\n",
    "\n",
    "    return meet \n",
    "\n",
    "\n",
    "if __name__ == '__main__':\n",
    "    fptr = open(os.environ['OUTPUT_PATH'], 'w')\n",
    "\n",
    "    first_multiple_input = input().rstrip().split()\n",
    "\n",
    "    x1 = int(first_multiple_input[0])\n",
    "\n",
    "    v1 = int(first_multiple_input[1])\n",
    "\n",
    "    x2 = int(first_multiple_input[2])\n",
    "\n",
    "    v2 = int(first_multiple_input[3])\n",
    "\n",
    "    result = kangaroo(x1, v1, x2, v2)\n",
    "\n",
    "    fptr.write(result + '\\n')\n",
    "\n",
    "    fptr.close()\n"
   ]
  },
  {
   "cell_type": "markdown",
   "metadata": {},
   "source": [
    "### 3. Viral Advertising \n",
    "### https://www.hackerrank.com/challenges/strange-advertising\n"
   ]
  },
  {
   "cell_type": "code",
   "execution_count": null,
   "metadata": {},
   "outputs": [],
   "source": [
    "#!/bin/python3\n",
    "\n",
    "''' \n",
    "This function calculates the cumulative number of people who have liked an ad over 'n' days.\n",
    "It starts with 5 people sharing the ad, and each day half of the people who see the ad like it.\n",
    "The number of people who like the ad is then multiplied by 3 for the next day's shares.\n",
    "'''\n",
    "\n",
    "import math\n",
    "import os\n",
    "import random\n",
    "import re\n",
    "import sys\n",
    "\n",
    "#\n",
    "# Complete the 'viralAdvertising' function below.\n",
    "#\n",
    "# The function is expected to return an INTEGER.\n",
    "# The function accepts INTEGER n as parameter.\n",
    "#\n",
    "\n",
    "def viralAdvertising(n):\n",
    "    \n",
    "  \n",
    "    likedPosts = 0\n",
    "    numberOfShares = 5\n",
    "    \n",
    "    for _ in range(n):\n",
    "        liked = numberOfShares // 2\n",
    "        likedPosts += liked\n",
    "        numberOfShares = liked * 3\n",
    "    \n",
    "    return likedPosts    \n",
    "    \n",
    "    \n",
    "if __name__ == '__main__':\n",
    "    fptr = open(os.environ['OUTPUT_PATH'], 'w')\n",
    "\n",
    "    n = int(input().strip())\n",
    "\n",
    "    result = viralAdvertising(n)\n",
    "\n",
    "    fptr.write(str(result) + '\\n')\n",
    "\n",
    "    fptr.close()\n"
   ]
  },
  {
   "cell_type": "markdown",
   "metadata": {},
   "source": [
    "### 4. Recursive Digit Sum\n",
    "### https://www.hackerrank.com/challenges/recursive-digit-sum"
   ]
  },
  {
   "cell_type": "code",
   "execution_count": null,
   "metadata": {},
   "outputs": [],
   "source": [
    "#!/bin/python3\n",
    "\n",
    "import math\n",
    "import os\n",
    "import random\n",
    "import re\n",
    "import sys\n",
    "\n",
    "'''\n",
    "This program computes the \"super digit\" of a given number `n` that is repeated `k` times.\n",
    "The super digit is defined as the recursive sum of the digits of a number until a single digit is obtained.\n",
    "\n",
    "Steps:\n",
    "1. Compute the sum of digits of `n` once and multiply it by `k`.\n",
    "2. Recursively reduce this sum to a single-digit super digit.\n",
    "'''\n",
    "\n",
    "def superDigit(n, k):\n",
    "    # Calculate the sum of digits of n and multiply by k\n",
    "    digitSum = sum(int(digit) for digit in n) * k\n",
    "    \n",
    "    return super_digit(digitSum)\n",
    "\n",
    "def super_digit(P):\n",
    "    # Recursively sum digits until a single digit is reached\n",
    "    if P < 10:\n",
    "        return P\n",
    "    else:\n",
    "        sumP = sum(int(digit) for digit in str(P))\n",
    "        return super_digit(sumP)\n",
    "    \n",
    "if __name__ == '__main__':\n",
    "    fptr = open(os.environ['OUTPUT_PATH'], 'w')\n",
    "\n",
    "    first_multiple_input = input().rstrip().split()\n",
    "\n",
    "    n = first_multiple_input[0]\n",
    "    k = int(first_multiple_input[1])\n",
    "\n",
    "    result = superDigit(n, k)\n",
    "\n",
    "    fptr.write(str(result) + '\\n')\n",
    "\n",
    "    fptr.close()"
   ]
  },
  {
   "cell_type": "markdown",
   "metadata": {},
   "source": [
    "### 5. Insertion Sort - Part 1\n",
    "### https://www.hackerrank.com/challenges/insertionsort1"
   ]
  },
  {
   "cell_type": "code",
   "execution_count": null,
   "metadata": {},
   "outputs": [],
   "source": [
    "'''\n",
    "    This function performs a single iteration of the insertion sort algorithm on an array.\n",
    "    The goal is to insert the last element into its correct position within the sorted portion of the array.\n",
    "    \n",
    "    Steps:\n",
    "    1. Store the last element in the array and shift larger elements one position to the right.\n",
    "    2. Print the array at each step until the last element is inserted in the correct position.\n",
    "    '''\n",
    "def insertionSort1(n, arr):\n",
    "\n",
    "\n",
    "    lastEle = arr[n - 1]\n",
    "    isInsertedAtPosition = False\n",
    "\n",
    "    for index in range(n - 2, -1, -1):\n",
    "        if arr[index] > lastEle:\n",
    "            arr[index + 1] = arr[index]\n",
    "        else:\n",
    "            arr[index + 1] = lastEle\n",
    "            isInsertedAtPosition = True\n",
    "        \n",
    "        row = \" \".join(map(str, arr))\n",
    "        print(row)\n",
    "        \n",
    "        if isInsertedAtPosition:\n",
    "            break\n",
    "\n",
    "    if not isInsertedAtPosition:\n",
    "        arr[0] = lastEle\n",
    "        row = \" \".join(map(str, arr))\n",
    "        print(row)\n",
    "\n",
    "if __name__ == '__main__':\n",
    "    n = int(input().strip())\n",
    "\n",
    "    arr = list(map(int, input().rstrip().split()))\n",
    "\n",
    "    insertionSort1(n, arr)\n"
   ]
  },
  {
   "cell_type": "markdown",
   "metadata": {},
   "source": [
    "### 6. Insertion Sort - Part 2\n",
    "### https://www.hackerrank.com/challenges/insertionsort2\n"
   ]
  },
  {
   "cell_type": "code",
   "execution_count": null,
   "metadata": {},
   "outputs": [],
   "source": [
    "#!/bin/python3\n",
    "\n",
    "'''\n",
    "    The Insertion function below implements the insertion sort algorithm to sort an array.\n",
    "    After each insertion of the current element into its correct position,\n",
    "    the function prints the array to show the progress of the sorting.\n",
    "    \n",
    "    Steps:\n",
    "    1. Iterate through the array starting from the second element.\n",
    "    2. For each element, shift larger elements one position to the right.\n",
    "    3. Insert the current element at its correct position.\n",
    "    4. Print the array after each insertion.\n",
    "'''\n",
    "\n",
    "import math\n",
    "import os\n",
    "import random\n",
    "import re\n",
    "import sys\n",
    "\n",
    "#\n",
    "# Complete the 'insertionSort2' function below.\n",
    "#\n",
    "# The function accepts following parameters:\n",
    "#  1. INTEGER n\n",
    "#  2. INTEGER_ARRAY arr\n",
    "#\n",
    "\n",
    "def insertionSort2(n, arr):\n",
    "\n",
    "    for i in range(1, n):\n",
    "        currentElement = arr[i] \n",
    "        j = i - 1\n",
    "        \n",
    "        while j >= 0 and currentElement < arr[j]:\n",
    "            arr[j + 1] = arr[j]  \n",
    "            j -= 1\n",
    "        \n",
    "        arr[j + 1] = currentElement\n",
    "        \n",
    "        for item in arr:\n",
    "            print(item, end=\" \")\n",
    "        print()\n",
    "\n",
    "if __name__ == '__main__':\n",
    "    n = int(input().strip())\n",
    "    arr = list(map(int, input().split()))\n",
    "    \n",
    "    insertionSort2(n, arr)\n"
   ]
  },
  {
   "cell_type": "markdown",
   "metadata": {},
   "source": [
    "## End Of Homework1 (Problem1 and Problem2)"
   ]
  }
 ],
 "metadata": {
  "kernelspec": {
   "display_name": "Python 3",
   "language": "python",
   "name": "python3"
  },
  "language_info": {
   "codemirror_mode": {
    "name": "ipython",
    "version": 3
   },
   "file_extension": ".py",
   "mimetype": "text/x-python",
   "name": "python",
   "nbconvert_exporter": "python",
   "pygments_lexer": "ipython3",
   "version": "3.12.1"
  }
 },
 "nbformat": 4,
 "nbformat_minor": 2
}
